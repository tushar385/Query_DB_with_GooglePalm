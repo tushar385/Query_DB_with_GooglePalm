{
  "cells": [
    {
      "cell_type": "code",
      "execution_count": null,
      "metadata": {
        "id": "10osBI7t2vNy"
      },
      "outputs": [],
      "source": [
        "# !pip install langchain\n",
        "# !pip install google-generativeai\n",
        "# !pip install langchain --upgrade\n",
        "# !pip install snowflake-connector-python\n",
        "# !pip install psycopg2\n",
        "# !pip install sentence-transformers\n",
        "# !pip install langchain_experimental\n",
        "# !pip install sqlalchemy\n",
        "# !pip install chromadb"
      ]
    },
    {
      "cell_type": "markdown",
      "metadata": {
        "id": "0qkTa96m2vOE"
      },
      "source": [
        "## 1. Connecting to database & Initilizing llm components"
      ]
    },
    {
      "cell_type": "code",
      "execution_count": null,
      "metadata": {
        "id": "5lNVq0EX2vOL"
      },
      "outputs": [],
      "source": [
        "from langchain_experimental.sql import SQLDatabaseChain\n",
        "from langchain.utilities import SQLDatabase\n",
        "from langchain.llms import GooglePalm\n",
        "\n",
        "# Google Language Model setup\n",
        "api_key = 'XYZ-abc123'\n",
        "llm = GooglePalm(google_api_key=api_key, temperature=0.2)\n",
        "# poem = llm('write a poem for dosa')\n",
        "# print(poem)\n",
        "\n",
        "# SQL Database setup\n",
        "db_user = 'tushar'\n",
        "db_password = 'Tushar12'\n",
        "db_host = 'localhost'\n",
        "db_name = 'LLM'\n",
        "db_uri = f\"postgresql+psycopg2://{db_user}:{db_password}@{db_host}/{db_name}\"\n",
        "database = SQLDatabase.from_uri(db_uri)\n",
        "\n",
        "# SQL Database Chain setup\n",
        "db_chain = SQLDatabaseChain.from_llm(llm, database, verbose=True)\n"
      ]
    },
    {
      "cell_type": "code",
      "execution_count": null,
      "metadata": {
        "id": "l-iB1_K82vOO",
        "outputId": "d3e9a855-0143-4f6e-a8ac-5cd3f5385e97"
      },
      "outputs": [
        {
          "name": "stdout",
          "output_type": "stream",
          "text": [
            "\n",
            "CREATE TABLE discounts (\n",
            "\tdiscount_id INTEGER DEFAULT nextval('discounts_discount_id_seq'::regclass) NOT NULL, \n",
            "\tt_shirt_id INTEGER NOT NULL, \n",
            "\tpct_discount NUMERIC(5, 2), \n",
            "\tCONSTRAINT discounts_pct_discount_check CHECK (pct_discount >= 0::numeric AND pct_discount <= 100::numeric)\n",
            ")\n",
            "\n",
            "/*\n",
            "3 rows from discounts table:\n",
            "discount_id\tt_shirt_id\tpct_discount\n",
            "1\t1\t10.00\n",
            "2\t2\t15.00\n",
            "3\t3\t20.00\n",
            "*/\n",
            "\n",
            "\n",
            "CREATE TABLE locations (\n",
            "\tlocation_id INTEGER, \n",
            "\tlocation_name VARCHAR(50), \n",
            "\tcity VARCHAR(50), \n",
            "\tstate VARCHAR(2)\n",
            ")\n",
            "\n",
            "/*\n",
            "3 rows from locations table:\n",
            "location_id\tlocation_name\tcity\tstate\n",
            "1\tWarehouse A\tNew York\tNY\n",
            "2\tWarehouse B\tLos Angeles\tCA\n",
            "3\tWarehouse C\tChicago\tIL\n",
            "*/\n",
            "\n",
            "\n",
            "CREATE TABLE orders (\n",
            "\torder_id INTEGER, \n",
            "\tcustomer_id INTEGER, \n",
            "\tproduct_name VARCHAR(50), \n",
            "\tquantity INTEGER, \n",
            "\torder_date DATE, \n",
            "\tlocation_id INTEGER, \n",
            "\torder_amount NUMERIC(10, 2)\n",
            ")\n",
            "\n",
            "/*\n",
            "3 rows from orders table:\n",
            "order_id\tcustomer_id\tproduct_name\tquantity\torder_date\tlocation_id\torder_amount\n",
            "1\t101\tProduct A\t3\t2023-08-15\t1\t150.00\n",
            "2\t102\tProduct B\t2\t2023-08-15\t2\t120.00\n",
            "3\t101\tProduct C\t1\t2023-08-16\t3\t60.00\n",
            "*/\n",
            "\n",
            "\n",
            "CREATE TABLE t_shirts (\n",
            "\tt_shirt_id SERIAL NOT NULL, \n",
            "\tbrand VARCHAR(50) NOT NULL, \n",
            "\tcolor VARCHAR(20) NOT NULL, \n",
            "\tsize VARCHAR(2) NOT NULL, \n",
            "\tprice INTEGER, \n",
            "\tstock_quantity INTEGER NOT NULL, \n",
            "\tCONSTRAINT t_shirts_pkey PRIMARY KEY (t_shirt_id), \n",
            "\tCONSTRAINT brand_color_size UNIQUE (brand, color, size), \n",
            "\tCONSTRAINT t_shirts_brand_check CHECK (brand::text = ANY (ARRAY['Van Huesen'::character varying, 'Levi'::character varying, 'Nike'::character varying, 'Adidas'::character varying]::text[])), \n",
            "\tCONSTRAINT t_shirts_color_check CHECK (color::text = ANY (ARRAY['Red'::character varying, 'Blue'::character varying, 'Black'::character varying, 'White'::character varying]::text[])), \n",
            "\tCONSTRAINT t_shirts_price_check CHECK (price >= 10 AND price <= 50), \n",
            "\tCONSTRAINT t_shirts_size_check CHECK (size::text = ANY (ARRAY['XS'::character varying, 'S'::character varying, 'M'::character varying, 'L'::character varying, 'XL'::character varying]::text[]))\n",
            ")\n",
            "\n",
            "/*\n",
            "3 rows from t_shirts table:\n",
            "t_shirt_id\tbrand\tcolor\tsize\tprice\tstock_quantity\n",
            "1\tVan Huesen\tRed\tM\t25\t50\n",
            "2\tVan Huesen\tRed\tXS\t25\t100\n",
            "3\tLevi\tBlue\tS\t30\t75\n",
            "*/\n"
          ]
        }
      ],
      "source": [
        "print(database.table_info)"
      ]
    },
    {
      "cell_type": "markdown",
      "metadata": {
        "id": "1gLtbGVS2vOU"
      },
      "source": [
        "## 2. Prompting with GooglePalm"
      ]
    },
    {
      "cell_type": "code",
      "execution_count": null,
      "metadata": {
        "id": "VbJ8FYmP2vOW",
        "outputId": "504935be-1098-4048-f9c3-2d9252a40f74"
      },
      "outputs": [
        {
          "name": "stdout",
          "output_type": "stream",
          "text": [
            "\n",
            "\n",
            "\u001b[1m> Entering new SQLDatabaseChain chain...\u001b[0m\n",
            "How many orders are placed on 2023-08-15\n",
            "SQLQuery:\u001b[32;1m\u001b[1;3mSELECT count(*) FROM orders WHERE order_date = '2023-08-15'\u001b[0m\n",
            "SQLResult: \u001b[33;1m\u001b[1;3m[(2,)]\u001b[0m\n",
            "Answer:\u001b[32;1m\u001b[1;3m2\u001b[0m\n",
            "\u001b[1m> Finished chain.\u001b[0m\n"
          ]
        }
      ],
      "source": [
        "qns1 = db_chain(\"How many orders are placed on 2023-08-15\")"
      ]
    },
    {
      "cell_type": "code",
      "execution_count": null,
      "metadata": {
        "id": "2MEjQiNC2vOb",
        "outputId": "a7c02052-5efa-470a-dc53-d265ab47e80b"
      },
      "outputs": [
        {
          "data": {
            "text/plain": [
              "{'query': 'How many orders are placed on 2023-08-15', 'result': '2'}"
            ]
          },
          "execution_count": 180,
          "metadata": {},
          "output_type": "execute_result"
        }
      ],
      "source": [
        "qns1\n",
        "#ok"
      ]
    },
    {
      "cell_type": "code",
      "execution_count": null,
      "metadata": {
        "id": "0eJSCEIa2vOe",
        "outputId": "07d70656-cfba-4a78-bc40-447e13d8037c"
      },
      "outputs": [
        {
          "name": "stdout",
          "output_type": "stream",
          "text": [
            "\n",
            "\n",
            "\u001b[1m> Entering new SQLDatabaseChain chain...\u001b[0m\n",
            "How many total quantity orders are placed on 2023-08-15\n",
            "SQLQuery:\u001b[32;1m\u001b[1;3mSELECT SUM(quantity) FROM orders WHERE order_date = '2023-08-15'\u001b[0m\n",
            "SQLResult: \u001b[33;1m\u001b[1;3m[(5,)]\u001b[0m\n",
            "Answer:\u001b[32;1m\u001b[1;3m5\u001b[0m\n",
            "\u001b[1m> Finished chain.\u001b[0m\n"
          ]
        }
      ],
      "source": [
        "qns2 = db_chain(\"How many total quantity orders are placed on 2023-08-15\")"
      ]
    },
    {
      "cell_type": "code",
      "execution_count": null,
      "metadata": {
        "id": "rZJhJC102vOh",
        "outputId": "4e2c06d1-0301-44f0-adc3-5fd1a4cce5f5"
      },
      "outputs": [
        {
          "data": {
            "text/plain": [
              "{'query': 'How many total quantity orders are placed on 2023-08-15',\n",
              " 'result': '5'}"
            ]
          },
          "execution_count": 181,
          "metadata": {},
          "output_type": "execute_result"
        }
      ],
      "source": [
        "qns2\n",
        "# ok"
      ]
    },
    {
      "cell_type": "code",
      "execution_count": null,
      "metadata": {
        "id": "jbmJ1aOk2vOl",
        "outputId": "43be0529-ca43-4ad7-b7c0-4a9f75ba0d29"
      },
      "outputs": [
        {
          "name": "stdout",
          "output_type": "stream",
          "text": [
            "\n",
            "\n",
            "\u001b[1m> Entering new SQLDatabaseChain chain...\u001b[0m\n",
            "How many t-shirts do we have left for nike in extra small size and white color?\n",
            "SQLQuery:\u001b[32;1m\u001b[1;3mSELECT stock_quantity FROM t_shirts WHERE brand = 'Nike' AND color = 'White' AND size = 'XS'\u001b[0m\n",
            "SQLResult: \u001b[33;1m\u001b[1;3m\u001b[0m\n",
            "Answer:\u001b[32;1m\u001b[1;3m100\u001b[0m\n",
            "\u001b[1m> Finished chain.\u001b[0m\n"
          ]
        }
      ],
      "source": [
        "qns3 = db_chain(\"How many t-shirts do we have left for nike in extra small size and white color?\")"
      ]
    },
    {
      "cell_type": "code",
      "execution_count": null,
      "metadata": {
        "id": "fZUcROOx2vOo",
        "outputId": "00de38c6-3e67-4bcb-ca3d-15e4cf78af22"
      },
      "outputs": [
        {
          "data": {
            "text/plain": [
              "{'query': 'How many t-shirts do we have left for nike in extra small size and white color?',\n",
              " 'result': '100'}"
            ]
          },
          "execution_count": 183,
          "metadata": {},
          "output_type": "execute_result"
        }
      ],
      "source": [
        "qns3\n",
        "# wrong its 0"
      ]
    },
    {
      "cell_type": "code",
      "execution_count": null,
      "metadata": {
        "id": "9Bsp3fz12vOr",
        "outputId": "53760da5-ef9d-440f-def1-3f7db23ac008"
      },
      "outputs": [
        {
          "name": "stdout",
          "output_type": "stream",
          "text": [
            "\n",
            "\n",
            "\u001b[1m> Entering new SQLDatabaseChain chain...\u001b[0m\n",
            "How much is the price of the inventory for all small size t-shirts?\n",
            "SQLQuery:\u001b[32;1m\u001b[1;3mSELECT SUM(price * stock_quantity) FROM t_shirts WHERE size = 'XS'\u001b[0m\n",
            "SQLResult: \u001b[33;1m\u001b[1;3m[(4150,)]\u001b[0m\n",
            "Answer:"
          ]
        },
        {
          "name": "stderr",
          "output_type": "stream",
          "text": [
            "Retrying langchain.llms.google_palm.completion_with_retry.<locals>._completion_with_retry in 4.0 seconds as it raised ServiceUnavailable: 503 The service is currently unavailable..\n"
          ]
        },
        {
          "name": "stdout",
          "output_type": "stream",
          "text": [
            "\u001b[32;1m\u001b[1;3m4150\u001b[0m\n",
            "\u001b[1m> Finished chain.\u001b[0m\n"
          ]
        }
      ],
      "source": [
        "qns4 = db_chain.run(\"How much is the price of the inventory for all small size t-shirts?\")"
      ]
    },
    {
      "cell_type": "code",
      "execution_count": null,
      "metadata": {
        "id": "RRuKEuzq2vOt",
        "outputId": "817146a1-4bb6-4110-f416-996dc45a16e4"
      },
      "outputs": [
        {
          "data": {
            "text/plain": [
              "'14034'"
            ]
          },
          "execution_count": 185,
          "metadata": {},
          "output_type": "execute_result"
        }
      ],
      "source": [
        "qns4\n",
        "#ok"
      ]
    },
    {
      "cell_type": "code",
      "execution_count": null,
      "metadata": {
        "id": "JEvCRAP92vOw",
        "outputId": "e6ada260-4485-4dbc-af55-a30a71d9094c"
      },
      "outputs": [
        {
          "name": "stdout",
          "output_type": "stream",
          "text": [
            "\n",
            "\n",
            "\u001b[1m> Entering new SQLDatabaseChain chain...\u001b[0m\n",
            "How many IS THE INVENTORY FOR LOCATION ID 1\n",
            "SQLQuery:\u001b[32;1m\u001b[1;3mSELECT SUM(stock_quantity) FROM t_shirts WHERE location_id = 1\u001b[0m"
          ]
        },
        {
          "ename": "ProgrammingError",
          "evalue": "(psycopg2.errors.UndefinedColumn) column \"location_id\" does not exist\nLINE 1: SELECT SUM(stock_quantity) FROM t_shirts WHERE location_id =...\n                                                       ^\n\n[SQL: SELECT SUM(stock_quantity) FROM t_shirts WHERE location_id = 1]\n(Background on this error at: https://sqlalche.me/e/20/f405)",
          "output_type": "error",
          "traceback": [
            "\u001b[0;31m---------------------------------------------------------------------------\u001b[0m",
            "\u001b[0;31mUndefinedColumn\u001b[0m                           Traceback (most recent call last)",
            "File \u001b[0;32m~/Documents/CO-pilot/llm-env/lib/python3.9/site-packages/sqlalchemy/engine/base.py:1969\u001b[0m, in \u001b[0;36mConnection._exec_single_context\u001b[0;34m(self, dialect, context, statement, parameters)\u001b[0m\n\u001b[1;32m   1968\u001b[0m     \u001b[39mif\u001b[39;00m \u001b[39mnot\u001b[39;00m evt_handled:\n\u001b[0;32m-> 1969\u001b[0m         \u001b[39mself\u001b[39;49m\u001b[39m.\u001b[39;49mdialect\u001b[39m.\u001b[39;49mdo_execute(\n\u001b[1;32m   1970\u001b[0m             cursor, str_statement, effective_parameters, context\n\u001b[1;32m   1971\u001b[0m         )\n\u001b[1;32m   1973\u001b[0m \u001b[39mif\u001b[39;00m \u001b[39mself\u001b[39m\u001b[39m.\u001b[39m_has_events \u001b[39mor\u001b[39;00m \u001b[39mself\u001b[39m\u001b[39m.\u001b[39mengine\u001b[39m.\u001b[39m_has_events:\n",
            "File \u001b[0;32m~/Documents/CO-pilot/llm-env/lib/python3.9/site-packages/sqlalchemy/engine/default.py:922\u001b[0m, in \u001b[0;36mDefaultDialect.do_execute\u001b[0;34m(self, cursor, statement, parameters, context)\u001b[0m\n\u001b[1;32m    921\u001b[0m \u001b[39mdef\u001b[39;00m \u001b[39mdo_execute\u001b[39m(\u001b[39mself\u001b[39m, cursor, statement, parameters, context\u001b[39m=\u001b[39m\u001b[39mNone\u001b[39;00m):\n\u001b[0;32m--> 922\u001b[0m     cursor\u001b[39m.\u001b[39;49mexecute(statement, parameters)\n",
            "\u001b[0;31mUndefinedColumn\u001b[0m: column \"location_id\" does not exist\nLINE 1: SELECT SUM(stock_quantity) FROM t_shirts WHERE location_id =...\n                                                       ^\n",
            "\nThe above exception was the direct cause of the following exception:\n",
            "\u001b[0;31mProgrammingError\u001b[0m                          Traceback (most recent call last)",
            "Cell \u001b[0;32mIn[19], line 1\u001b[0m\n\u001b[0;32m----> 1\u001b[0m qns5 \u001b[39m=\u001b[39m db_chain(\u001b[39m\"\u001b[39;49m\u001b[39mHow many IS THE INVENTORY FOR LOCATION ID 1\u001b[39;49m\u001b[39m\"\u001b[39;49m)\n\u001b[1;32m      2\u001b[0m \u001b[39m## IT FAILED TO UNDERSTAND TABLE\u001b[39;00m\n",
            "File \u001b[0;32m~/Documents/CO-pilot/llm-env/lib/python3.9/site-packages/langchain/chains/base.py:312\u001b[0m, in \u001b[0;36mChain.__call__\u001b[0;34m(self, inputs, return_only_outputs, callbacks, tags, metadata, run_name, include_run_info)\u001b[0m\n\u001b[1;32m    310\u001b[0m \u001b[39mexcept\u001b[39;00m \u001b[39mBaseException\u001b[39;00m \u001b[39mas\u001b[39;00m e:\n\u001b[1;32m    311\u001b[0m     run_manager\u001b[39m.\u001b[39mon_chain_error(e)\n\u001b[0;32m--> 312\u001b[0m     \u001b[39mraise\u001b[39;00m e\n\u001b[1;32m    313\u001b[0m run_manager\u001b[39m.\u001b[39mon_chain_end(outputs)\n\u001b[1;32m    314\u001b[0m final_outputs: Dict[\u001b[39mstr\u001b[39m, Any] \u001b[39m=\u001b[39m \u001b[39mself\u001b[39m\u001b[39m.\u001b[39mprep_outputs(\n\u001b[1;32m    315\u001b[0m     inputs, outputs, return_only_outputs\n\u001b[1;32m    316\u001b[0m )\n",
            "File \u001b[0;32m~/Documents/CO-pilot/llm-env/lib/python3.9/site-packages/langchain/chains/base.py:306\u001b[0m, in \u001b[0;36mChain.__call__\u001b[0;34m(self, inputs, return_only_outputs, callbacks, tags, metadata, run_name, include_run_info)\u001b[0m\n\u001b[1;32m    299\u001b[0m run_manager \u001b[39m=\u001b[39m callback_manager\u001b[39m.\u001b[39mon_chain_start(\n\u001b[1;32m    300\u001b[0m     dumpd(\u001b[39mself\u001b[39m),\n\u001b[1;32m    301\u001b[0m     inputs,\n\u001b[1;32m    302\u001b[0m     name\u001b[39m=\u001b[39mrun_name,\n\u001b[1;32m    303\u001b[0m )\n\u001b[1;32m    304\u001b[0m \u001b[39mtry\u001b[39;00m:\n\u001b[1;32m    305\u001b[0m     outputs \u001b[39m=\u001b[39m (\n\u001b[0;32m--> 306\u001b[0m         \u001b[39mself\u001b[39;49m\u001b[39m.\u001b[39;49m_call(inputs, run_manager\u001b[39m=\u001b[39;49mrun_manager)\n\u001b[1;32m    307\u001b[0m         \u001b[39mif\u001b[39;00m new_arg_supported\n\u001b[1;32m    308\u001b[0m         \u001b[39melse\u001b[39;00m \u001b[39mself\u001b[39m\u001b[39m.\u001b[39m_call(inputs)\n\u001b[1;32m    309\u001b[0m     )\n\u001b[1;32m    310\u001b[0m \u001b[39mexcept\u001b[39;00m \u001b[39mBaseException\u001b[39;00m \u001b[39mas\u001b[39;00m e:\n\u001b[1;32m    311\u001b[0m     run_manager\u001b[39m.\u001b[39mon_chain_error(e)\n",
            "File \u001b[0;32m~/Documents/CO-pilot/llm-env/lib/python3.9/site-packages/langchain_experimental/sql/base.py:201\u001b[0m, in \u001b[0;36mSQLDatabaseChain._call\u001b[0;34m(self, inputs, run_manager)\u001b[0m\n\u001b[1;32m    197\u001b[0m \u001b[39mexcept\u001b[39;00m \u001b[39mException\u001b[39;00m \u001b[39mas\u001b[39;00m exc:\n\u001b[1;32m    198\u001b[0m     \u001b[39m# Append intermediate steps to exception, to aid in logging and later\u001b[39;00m\n\u001b[1;32m    199\u001b[0m     \u001b[39m# improvement of few shot prompt seeds\u001b[39;00m\n\u001b[1;32m    200\u001b[0m     exc\u001b[39m.\u001b[39mintermediate_steps \u001b[39m=\u001b[39m intermediate_steps  \u001b[39m# type: ignore\u001b[39;00m\n\u001b[0;32m--> 201\u001b[0m     \u001b[39mraise\u001b[39;00m exc\n",
            "File \u001b[0;32m~/Documents/CO-pilot/llm-env/lib/python3.9/site-packages/langchain_experimental/sql/base.py:146\u001b[0m, in \u001b[0;36mSQLDatabaseChain._call\u001b[0;34m(self, inputs, run_manager)\u001b[0m\n\u001b[1;32m    144\u001b[0m     \u001b[39mif\u001b[39;00m SQL_QUERY \u001b[39min\u001b[39;00m sql_cmd:\n\u001b[1;32m    145\u001b[0m         sql_cmd \u001b[39m=\u001b[39m sql_cmd\u001b[39m.\u001b[39msplit(SQL_QUERY)[\u001b[39m1\u001b[39m]\u001b[39m.\u001b[39mstrip()\n\u001b[0;32m--> 146\u001b[0m     result \u001b[39m=\u001b[39m \u001b[39mself\u001b[39;49m\u001b[39m.\u001b[39;49mdatabase\u001b[39m.\u001b[39;49mrun(sql_cmd)\n\u001b[1;32m    147\u001b[0m     intermediate_steps\u001b[39m.\u001b[39mappend(\u001b[39mstr\u001b[39m(result))  \u001b[39m# output: sql exec\u001b[39;00m\n\u001b[1;32m    148\u001b[0m \u001b[39melse\u001b[39;00m:\n",
            "File \u001b[0;32m~/Documents/CO-pilot/llm-env/lib/python3.9/site-packages/langchain/utilities/sql_database.py:433\u001b[0m, in \u001b[0;36mSQLDatabase.run\u001b[0;34m(self, command, fetch)\u001b[0m\n\u001b[1;32m    423\u001b[0m \u001b[39mdef\u001b[39;00m \u001b[39mrun\u001b[39m(\n\u001b[1;32m    424\u001b[0m     \u001b[39mself\u001b[39m,\n\u001b[1;32m    425\u001b[0m     command: \u001b[39mstr\u001b[39m,\n\u001b[1;32m    426\u001b[0m     fetch: Union[Literal[\u001b[39m\"\u001b[39m\u001b[39mall\u001b[39m\u001b[39m\"\u001b[39m], Literal[\u001b[39m\"\u001b[39m\u001b[39mone\u001b[39m\u001b[39m\"\u001b[39m]] \u001b[39m=\u001b[39m \u001b[39m\"\u001b[39m\u001b[39mall\u001b[39m\u001b[39m\"\u001b[39m,\n\u001b[1;32m    427\u001b[0m ) \u001b[39m-\u001b[39m\u001b[39m>\u001b[39m \u001b[39mstr\u001b[39m:\n\u001b[1;32m    428\u001b[0m \u001b[39m    \u001b[39m\u001b[39m\"\"\"Execute a SQL command and return a string representing the results.\u001b[39;00m\n\u001b[1;32m    429\u001b[0m \n\u001b[1;32m    430\u001b[0m \u001b[39m    If the statement returns rows, a string of the results is returned.\u001b[39;00m\n\u001b[1;32m    431\u001b[0m \u001b[39m    If the statement returns no rows, an empty string is returned.\u001b[39;00m\n\u001b[1;32m    432\u001b[0m \u001b[39m    \"\"\"\u001b[39;00m\n\u001b[0;32m--> 433\u001b[0m     result \u001b[39m=\u001b[39m \u001b[39mself\u001b[39;49m\u001b[39m.\u001b[39;49m_execute(command, fetch)\n\u001b[1;32m    434\u001b[0m     \u001b[39m# Convert columns values to string to avoid issues with sqlalchemy\u001b[39;00m\n\u001b[1;32m    435\u001b[0m     \u001b[39m# truncating text\u001b[39;00m\n\u001b[1;32m    436\u001b[0m     res \u001b[39m=\u001b[39m [\n\u001b[1;32m    437\u001b[0m         \u001b[39mtuple\u001b[39m(truncate_word(c, length\u001b[39m=\u001b[39m\u001b[39mself\u001b[39m\u001b[39m.\u001b[39m_max_string_length) \u001b[39mfor\u001b[39;00m c \u001b[39min\u001b[39;00m r\u001b[39m.\u001b[39mvalues())\n\u001b[1;32m    438\u001b[0m         \u001b[39mfor\u001b[39;00m r \u001b[39min\u001b[39;00m result\n\u001b[1;32m    439\u001b[0m     ]\n",
            "File \u001b[0;32m~/Documents/CO-pilot/llm-env/lib/python3.9/site-packages/langchain/utilities/sql_database.py:411\u001b[0m, in \u001b[0;36mSQLDatabase._execute\u001b[0;34m(self, command, fetch)\u001b[0m\n\u001b[1;32m    409\u001b[0m     \u001b[39melse\u001b[39;00m:  \u001b[39m# postgresql and other compatible dialects\u001b[39;00m\n\u001b[1;32m    410\u001b[0m         connection\u001b[39m.\u001b[39mexec_driver_sql(\u001b[39m\"\u001b[39m\u001b[39mSET search_path TO \u001b[39m\u001b[39m%s\u001b[39;00m\u001b[39m\"\u001b[39m, (\u001b[39mself\u001b[39m\u001b[39m.\u001b[39m_schema,))\n\u001b[0;32m--> 411\u001b[0m cursor \u001b[39m=\u001b[39m connection\u001b[39m.\u001b[39;49mexecute(text(command))\n\u001b[1;32m    412\u001b[0m \u001b[39mif\u001b[39;00m cursor\u001b[39m.\u001b[39mreturns_rows:\n\u001b[1;32m    413\u001b[0m     \u001b[39mif\u001b[39;00m fetch \u001b[39m==\u001b[39m \u001b[39m\"\u001b[39m\u001b[39mall\u001b[39m\u001b[39m\"\u001b[39m:\n",
            "File \u001b[0;32m~/Documents/CO-pilot/llm-env/lib/python3.9/site-packages/sqlalchemy/engine/base.py:1416\u001b[0m, in \u001b[0;36mConnection.execute\u001b[0;34m(self, statement, parameters, execution_options)\u001b[0m\n\u001b[1;32m   1414\u001b[0m     \u001b[39mraise\u001b[39;00m exc\u001b[39m.\u001b[39mObjectNotExecutableError(statement) \u001b[39mfrom\u001b[39;00m \u001b[39merr\u001b[39;00m\n\u001b[1;32m   1415\u001b[0m \u001b[39melse\u001b[39;00m:\n\u001b[0;32m-> 1416\u001b[0m     \u001b[39mreturn\u001b[39;00m meth(\n\u001b[1;32m   1417\u001b[0m         \u001b[39mself\u001b[39;49m,\n\u001b[1;32m   1418\u001b[0m         distilled_parameters,\n\u001b[1;32m   1419\u001b[0m         execution_options \u001b[39mor\u001b[39;49;00m NO_OPTIONS,\n\u001b[1;32m   1420\u001b[0m     )\n",
            "File \u001b[0;32m~/Documents/CO-pilot/llm-env/lib/python3.9/site-packages/sqlalchemy/sql/elements.py:516\u001b[0m, in \u001b[0;36mClauseElement._execute_on_connection\u001b[0;34m(self, connection, distilled_params, execution_options)\u001b[0m\n\u001b[1;32m    514\u001b[0m     \u001b[39mif\u001b[39;00m TYPE_CHECKING:\n\u001b[1;32m    515\u001b[0m         \u001b[39massert\u001b[39;00m \u001b[39misinstance\u001b[39m(\u001b[39mself\u001b[39m, Executable)\n\u001b[0;32m--> 516\u001b[0m     \u001b[39mreturn\u001b[39;00m connection\u001b[39m.\u001b[39;49m_execute_clauseelement(\n\u001b[1;32m    517\u001b[0m         \u001b[39mself\u001b[39;49m, distilled_params, execution_options\n\u001b[1;32m    518\u001b[0m     )\n\u001b[1;32m    519\u001b[0m \u001b[39melse\u001b[39;00m:\n\u001b[1;32m    520\u001b[0m     \u001b[39mraise\u001b[39;00m exc\u001b[39m.\u001b[39mObjectNotExecutableError(\u001b[39mself\u001b[39m)\n",
            "File \u001b[0;32m~/Documents/CO-pilot/llm-env/lib/python3.9/site-packages/sqlalchemy/engine/base.py:1639\u001b[0m, in \u001b[0;36mConnection._execute_clauseelement\u001b[0;34m(self, elem, distilled_parameters, execution_options)\u001b[0m\n\u001b[1;32m   1627\u001b[0m compiled_cache: Optional[CompiledCacheType] \u001b[39m=\u001b[39m execution_options\u001b[39m.\u001b[39mget(\n\u001b[1;32m   1628\u001b[0m     \u001b[39m\"\u001b[39m\u001b[39mcompiled_cache\u001b[39m\u001b[39m\"\u001b[39m, \u001b[39mself\u001b[39m\u001b[39m.\u001b[39mengine\u001b[39m.\u001b[39m_compiled_cache\n\u001b[1;32m   1629\u001b[0m )\n\u001b[1;32m   1631\u001b[0m compiled_sql, extracted_params, cache_hit \u001b[39m=\u001b[39m elem\u001b[39m.\u001b[39m_compile_w_cache(\n\u001b[1;32m   1632\u001b[0m     dialect\u001b[39m=\u001b[39mdialect,\n\u001b[1;32m   1633\u001b[0m     compiled_cache\u001b[39m=\u001b[39mcompiled_cache,\n\u001b[0;32m   (...)\u001b[0m\n\u001b[1;32m   1637\u001b[0m     linting\u001b[39m=\u001b[39m\u001b[39mself\u001b[39m\u001b[39m.\u001b[39mdialect\u001b[39m.\u001b[39mcompiler_linting \u001b[39m|\u001b[39m compiler\u001b[39m.\u001b[39mWARN_LINTING,\n\u001b[1;32m   1638\u001b[0m )\n\u001b[0;32m-> 1639\u001b[0m ret \u001b[39m=\u001b[39m \u001b[39mself\u001b[39;49m\u001b[39m.\u001b[39;49m_execute_context(\n\u001b[1;32m   1640\u001b[0m     dialect,\n\u001b[1;32m   1641\u001b[0m     dialect\u001b[39m.\u001b[39;49mexecution_ctx_cls\u001b[39m.\u001b[39;49m_init_compiled,\n\u001b[1;32m   1642\u001b[0m     compiled_sql,\n\u001b[1;32m   1643\u001b[0m     distilled_parameters,\n\u001b[1;32m   1644\u001b[0m     execution_options,\n\u001b[1;32m   1645\u001b[0m     compiled_sql,\n\u001b[1;32m   1646\u001b[0m     distilled_parameters,\n\u001b[1;32m   1647\u001b[0m     elem,\n\u001b[1;32m   1648\u001b[0m     extracted_params,\n\u001b[1;32m   1649\u001b[0m     cache_hit\u001b[39m=\u001b[39;49mcache_hit,\n\u001b[1;32m   1650\u001b[0m )\n\u001b[1;32m   1651\u001b[0m \u001b[39mif\u001b[39;00m has_events:\n\u001b[1;32m   1652\u001b[0m     \u001b[39mself\u001b[39m\u001b[39m.\u001b[39mdispatch\u001b[39m.\u001b[39mafter_execute(\n\u001b[1;32m   1653\u001b[0m         \u001b[39mself\u001b[39m,\n\u001b[1;32m   1654\u001b[0m         elem,\n\u001b[0;32m   (...)\u001b[0m\n\u001b[1;32m   1658\u001b[0m         ret,\n\u001b[1;32m   1659\u001b[0m     )\n",
            "File \u001b[0;32m~/Documents/CO-pilot/llm-env/lib/python3.9/site-packages/sqlalchemy/engine/base.py:1848\u001b[0m, in \u001b[0;36mConnection._execute_context\u001b[0;34m(self, dialect, constructor, statement, parameters, execution_options, *args, **kw)\u001b[0m\n\u001b[1;32m   1843\u001b[0m     \u001b[39mreturn\u001b[39;00m \u001b[39mself\u001b[39m\u001b[39m.\u001b[39m_exec_insertmany_context(\n\u001b[1;32m   1844\u001b[0m         dialect,\n\u001b[1;32m   1845\u001b[0m         context,\n\u001b[1;32m   1846\u001b[0m     )\n\u001b[1;32m   1847\u001b[0m \u001b[39melse\u001b[39;00m:\n\u001b[0;32m-> 1848\u001b[0m     \u001b[39mreturn\u001b[39;00m \u001b[39mself\u001b[39;49m\u001b[39m.\u001b[39;49m_exec_single_context(\n\u001b[1;32m   1849\u001b[0m         dialect, context, statement, parameters\n\u001b[1;32m   1850\u001b[0m     )\n",
            "File \u001b[0;32m~/Documents/CO-pilot/llm-env/lib/python3.9/site-packages/sqlalchemy/engine/base.py:1988\u001b[0m, in \u001b[0;36mConnection._exec_single_context\u001b[0;34m(self, dialect, context, statement, parameters)\u001b[0m\n\u001b[1;32m   1985\u001b[0m     result \u001b[39m=\u001b[39m context\u001b[39m.\u001b[39m_setup_result_proxy()\n\u001b[1;32m   1987\u001b[0m \u001b[39mexcept\u001b[39;00m \u001b[39mBaseException\u001b[39;00m \u001b[39mas\u001b[39;00m e:\n\u001b[0;32m-> 1988\u001b[0m     \u001b[39mself\u001b[39;49m\u001b[39m.\u001b[39;49m_handle_dbapi_exception(\n\u001b[1;32m   1989\u001b[0m         e, str_statement, effective_parameters, cursor, context\n\u001b[1;32m   1990\u001b[0m     )\n\u001b[1;32m   1992\u001b[0m \u001b[39mreturn\u001b[39;00m result\n",
            "File \u001b[0;32m~/Documents/CO-pilot/llm-env/lib/python3.9/site-packages/sqlalchemy/engine/base.py:2343\u001b[0m, in \u001b[0;36mConnection._handle_dbapi_exception\u001b[0;34m(self, e, statement, parameters, cursor, context, is_sub_exec)\u001b[0m\n\u001b[1;32m   2341\u001b[0m \u001b[39melif\u001b[39;00m should_wrap:\n\u001b[1;32m   2342\u001b[0m     \u001b[39massert\u001b[39;00m sqlalchemy_exception \u001b[39mis\u001b[39;00m \u001b[39mnot\u001b[39;00m \u001b[39mNone\u001b[39;00m\n\u001b[0;32m-> 2343\u001b[0m     \u001b[39mraise\u001b[39;00m sqlalchemy_exception\u001b[39m.\u001b[39mwith_traceback(exc_info[\u001b[39m2\u001b[39m]) \u001b[39mfrom\u001b[39;00m \u001b[39me\u001b[39;00m\n\u001b[1;32m   2344\u001b[0m \u001b[39melse\u001b[39;00m:\n\u001b[1;32m   2345\u001b[0m     \u001b[39massert\u001b[39;00m exc_info[\u001b[39m1\u001b[39m] \u001b[39mis\u001b[39;00m \u001b[39mnot\u001b[39;00m \u001b[39mNone\u001b[39;00m\n",
            "File \u001b[0;32m~/Documents/CO-pilot/llm-env/lib/python3.9/site-packages/sqlalchemy/engine/base.py:1969\u001b[0m, in \u001b[0;36mConnection._exec_single_context\u001b[0;34m(self, dialect, context, statement, parameters)\u001b[0m\n\u001b[1;32m   1967\u001b[0m                 \u001b[39mbreak\u001b[39;00m\n\u001b[1;32m   1968\u001b[0m     \u001b[39mif\u001b[39;00m \u001b[39mnot\u001b[39;00m evt_handled:\n\u001b[0;32m-> 1969\u001b[0m         \u001b[39mself\u001b[39;49m\u001b[39m.\u001b[39;49mdialect\u001b[39m.\u001b[39;49mdo_execute(\n\u001b[1;32m   1970\u001b[0m             cursor, str_statement, effective_parameters, context\n\u001b[1;32m   1971\u001b[0m         )\n\u001b[1;32m   1973\u001b[0m \u001b[39mif\u001b[39;00m \u001b[39mself\u001b[39m\u001b[39m.\u001b[39m_has_events \u001b[39mor\u001b[39;00m \u001b[39mself\u001b[39m\u001b[39m.\u001b[39mengine\u001b[39m.\u001b[39m_has_events:\n\u001b[1;32m   1974\u001b[0m     \u001b[39mself\u001b[39m\u001b[39m.\u001b[39mdispatch\u001b[39m.\u001b[39mafter_cursor_execute(\n\u001b[1;32m   1975\u001b[0m         \u001b[39mself\u001b[39m,\n\u001b[1;32m   1976\u001b[0m         cursor,\n\u001b[0;32m   (...)\u001b[0m\n\u001b[1;32m   1980\u001b[0m         context\u001b[39m.\u001b[39mexecutemany,\n\u001b[1;32m   1981\u001b[0m     )\n",
            "File \u001b[0;32m~/Documents/CO-pilot/llm-env/lib/python3.9/site-packages/sqlalchemy/engine/default.py:922\u001b[0m, in \u001b[0;36mDefaultDialect.do_execute\u001b[0;34m(self, cursor, statement, parameters, context)\u001b[0m\n\u001b[1;32m    921\u001b[0m \u001b[39mdef\u001b[39;00m \u001b[39mdo_execute\u001b[39m(\u001b[39mself\u001b[39m, cursor, statement, parameters, context\u001b[39m=\u001b[39m\u001b[39mNone\u001b[39;00m):\n\u001b[0;32m--> 922\u001b[0m     cursor\u001b[39m.\u001b[39;49mexecute(statement, parameters)\n",
            "\u001b[0;31mProgrammingError\u001b[0m: (psycopg2.errors.UndefinedColumn) column \"location_id\" does not exist\nLINE 1: SELECT SUM(stock_quantity) FROM t_shirts WHERE location_id =...\n                                                       ^\n\n[SQL: SELECT SUM(stock_quantity) FROM t_shirts WHERE location_id = 1]\n(Background on this error at: https://sqlalche.me/e/20/f405)"
          ]
        }
      ],
      "source": [
        "qns5 = db_chain(\"How many IS THE INVENTORY FOR LOCATION ID 1\")\n",
        "## IT FAILED TO UNDERSTAND TABLE"
      ]
    },
    {
      "cell_type": "code",
      "execution_count": null,
      "metadata": {
        "id": "52q5nG_M2vOy",
        "outputId": "69d50ead-d2b3-4991-d056-5c38aa52e14b"
      },
      "outputs": [
        {
          "name": "stdout",
          "output_type": "stream",
          "text": [
            "\n",
            "\n",
            "\u001b[1m> Entering new SQLDatabaseChain chain...\u001b[0m\n",
            "If we have to sell all the Levi’s T-shirts today with discounts applied. How much revenue our store will generate (post discounts)?\n",
            "SQLQuery:\u001b[32;1m\u001b[1;3mSELECT SUM(t_shirts.price * (1 - discounts.pct_discount)) \n",
            "FROM t_shirts \n",
            "JOIN discounts ON t_shirts.t_shirt_id = discounts.t_shirt_id \n",
            "WHERE t_shirts.brand = 'Levi' AND t_shirts.stock_quantity > 0 AND CURRENT_DATE BETWEEN discounts.start_date AND discounts.end_date\u001b[0m"
          ]
        },
        {
          "ename": "ProgrammingError",
          "evalue": "(psycopg2.errors.UndefinedColumn) column discounts.start_date does not exist\nLINE 4: ...hirts.stock_quantity > 0 AND CURRENT_DATE BETWEEN discounts....\n                                                             ^\n\n[SQL: SELECT SUM(t_shirts.price * (1 - discounts.pct_discount)) \nFROM t_shirts \nJOIN discounts ON t_shirts.t_shirt_id = discounts.t_shirt_id \nWHERE t_shirts.brand = 'Levi' AND t_shirts.stock_quantity > 0 AND CURRENT_DATE BETWEEN discounts.start_date AND discounts.end_date]\n(Background on this error at: https://sqlalche.me/e/20/f405)",
          "output_type": "error",
          "traceback": [
            "\u001b[0;31m---------------------------------------------------------------------------\u001b[0m",
            "\u001b[0;31mUndefinedColumn\u001b[0m                           Traceback (most recent call last)",
            "File \u001b[0;32m~/Documents/CO-pilot/llm-env/lib/python3.9/site-packages/sqlalchemy/engine/base.py:1969\u001b[0m, in \u001b[0;36mConnection._exec_single_context\u001b[0;34m(self, dialect, context, statement, parameters)\u001b[0m\n\u001b[1;32m   1968\u001b[0m     \u001b[39mif\u001b[39;00m \u001b[39mnot\u001b[39;00m evt_handled:\n\u001b[0;32m-> 1969\u001b[0m         \u001b[39mself\u001b[39;49m\u001b[39m.\u001b[39;49mdialect\u001b[39m.\u001b[39;49mdo_execute(\n\u001b[1;32m   1970\u001b[0m             cursor, str_statement, effective_parameters, context\n\u001b[1;32m   1971\u001b[0m         )\n\u001b[1;32m   1973\u001b[0m \u001b[39mif\u001b[39;00m \u001b[39mself\u001b[39m\u001b[39m.\u001b[39m_has_events \u001b[39mor\u001b[39;00m \u001b[39mself\u001b[39m\u001b[39m.\u001b[39mengine\u001b[39m.\u001b[39m_has_events:\n",
            "File \u001b[0;32m~/Documents/CO-pilot/llm-env/lib/python3.9/site-packages/sqlalchemy/engine/default.py:922\u001b[0m, in \u001b[0;36mDefaultDialect.do_execute\u001b[0;34m(self, cursor, statement, parameters, context)\u001b[0m\n\u001b[1;32m    921\u001b[0m \u001b[39mdef\u001b[39;00m \u001b[39mdo_execute\u001b[39m(\u001b[39mself\u001b[39m, cursor, statement, parameters, context\u001b[39m=\u001b[39m\u001b[39mNone\u001b[39;00m):\n\u001b[0;32m--> 922\u001b[0m     cursor\u001b[39m.\u001b[39;49mexecute(statement, parameters)\n",
            "\u001b[0;31mUndefinedColumn\u001b[0m: column discounts.start_date does not exist\nLINE 4: ...hirts.stock_quantity > 0 AND CURRENT_DATE BETWEEN discounts....\n                                                             ^\n",
            "\nThe above exception was the direct cause of the following exception:\n",
            "\u001b[0;31mProgrammingError\u001b[0m                          Traceback (most recent call last)",
            "Cell \u001b[0;32mIn[20], line 1\u001b[0m\n\u001b[0;32m----> 1\u001b[0m qns6 \u001b[39m=\u001b[39m db_chain\u001b[39m.\u001b[39;49mrun(\u001b[39m\"\u001b[39;49m\u001b[39mIf we have to sell all the Levi’s T-shirts today with discounts applied. How much revenue our store will generate (post discounts)?\u001b[39;49m\u001b[39m\"\u001b[39;49m)\n\u001b[1;32m      2\u001b[0m \u001b[39m# retured wrong query like considering discount start date which dodent exists\u001b[39;00m\n",
            "File \u001b[0;32m~/Documents/CO-pilot/llm-env/lib/python3.9/site-packages/langchain/chains/base.py:507\u001b[0m, in \u001b[0;36mChain.run\u001b[0;34m(self, callbacks, tags, metadata, *args, **kwargs)\u001b[0m\n\u001b[1;32m    505\u001b[0m     \u001b[39mif\u001b[39;00m \u001b[39mlen\u001b[39m(args) \u001b[39m!=\u001b[39m \u001b[39m1\u001b[39m:\n\u001b[1;32m    506\u001b[0m         \u001b[39mraise\u001b[39;00m \u001b[39mValueError\u001b[39;00m(\u001b[39m\"\u001b[39m\u001b[39m`run` supports only one positional argument.\u001b[39m\u001b[39m\"\u001b[39m)\n\u001b[0;32m--> 507\u001b[0m     \u001b[39mreturn\u001b[39;00m \u001b[39mself\u001b[39;49m(args[\u001b[39m0\u001b[39;49m], callbacks\u001b[39m=\u001b[39;49mcallbacks, tags\u001b[39m=\u001b[39;49mtags, metadata\u001b[39m=\u001b[39;49mmetadata)[\n\u001b[1;32m    508\u001b[0m         _output_key\n\u001b[1;32m    509\u001b[0m     ]\n\u001b[1;32m    511\u001b[0m \u001b[39mif\u001b[39;00m kwargs \u001b[39mand\u001b[39;00m \u001b[39mnot\u001b[39;00m args:\n\u001b[1;32m    512\u001b[0m     \u001b[39mreturn\u001b[39;00m \u001b[39mself\u001b[39m(kwargs, callbacks\u001b[39m=\u001b[39mcallbacks, tags\u001b[39m=\u001b[39mtags, metadata\u001b[39m=\u001b[39mmetadata)[\n\u001b[1;32m    513\u001b[0m         _output_key\n\u001b[1;32m    514\u001b[0m     ]\n",
            "File \u001b[0;32m~/Documents/CO-pilot/llm-env/lib/python3.9/site-packages/langchain/chains/base.py:312\u001b[0m, in \u001b[0;36mChain.__call__\u001b[0;34m(self, inputs, return_only_outputs, callbacks, tags, metadata, run_name, include_run_info)\u001b[0m\n\u001b[1;32m    310\u001b[0m \u001b[39mexcept\u001b[39;00m \u001b[39mBaseException\u001b[39;00m \u001b[39mas\u001b[39;00m e:\n\u001b[1;32m    311\u001b[0m     run_manager\u001b[39m.\u001b[39mon_chain_error(e)\n\u001b[0;32m--> 312\u001b[0m     \u001b[39mraise\u001b[39;00m e\n\u001b[1;32m    313\u001b[0m run_manager\u001b[39m.\u001b[39mon_chain_end(outputs)\n\u001b[1;32m    314\u001b[0m final_outputs: Dict[\u001b[39mstr\u001b[39m, Any] \u001b[39m=\u001b[39m \u001b[39mself\u001b[39m\u001b[39m.\u001b[39mprep_outputs(\n\u001b[1;32m    315\u001b[0m     inputs, outputs, return_only_outputs\n\u001b[1;32m    316\u001b[0m )\n",
            "File \u001b[0;32m~/Documents/CO-pilot/llm-env/lib/python3.9/site-packages/langchain/chains/base.py:306\u001b[0m, in \u001b[0;36mChain.__call__\u001b[0;34m(self, inputs, return_only_outputs, callbacks, tags, metadata, run_name, include_run_info)\u001b[0m\n\u001b[1;32m    299\u001b[0m run_manager \u001b[39m=\u001b[39m callback_manager\u001b[39m.\u001b[39mon_chain_start(\n\u001b[1;32m    300\u001b[0m     dumpd(\u001b[39mself\u001b[39m),\n\u001b[1;32m    301\u001b[0m     inputs,\n\u001b[1;32m    302\u001b[0m     name\u001b[39m=\u001b[39mrun_name,\n\u001b[1;32m    303\u001b[0m )\n\u001b[1;32m    304\u001b[0m \u001b[39mtry\u001b[39;00m:\n\u001b[1;32m    305\u001b[0m     outputs \u001b[39m=\u001b[39m (\n\u001b[0;32m--> 306\u001b[0m         \u001b[39mself\u001b[39;49m\u001b[39m.\u001b[39;49m_call(inputs, run_manager\u001b[39m=\u001b[39;49mrun_manager)\n\u001b[1;32m    307\u001b[0m         \u001b[39mif\u001b[39;00m new_arg_supported\n\u001b[1;32m    308\u001b[0m         \u001b[39melse\u001b[39;00m \u001b[39mself\u001b[39m\u001b[39m.\u001b[39m_call(inputs)\n\u001b[1;32m    309\u001b[0m     )\n\u001b[1;32m    310\u001b[0m \u001b[39mexcept\u001b[39;00m \u001b[39mBaseException\u001b[39;00m \u001b[39mas\u001b[39;00m e:\n\u001b[1;32m    311\u001b[0m     run_manager\u001b[39m.\u001b[39mon_chain_error(e)\n",
            "File \u001b[0;32m~/Documents/CO-pilot/llm-env/lib/python3.9/site-packages/langchain_experimental/sql/base.py:201\u001b[0m, in \u001b[0;36mSQLDatabaseChain._call\u001b[0;34m(self, inputs, run_manager)\u001b[0m\n\u001b[1;32m    197\u001b[0m \u001b[39mexcept\u001b[39;00m \u001b[39mException\u001b[39;00m \u001b[39mas\u001b[39;00m exc:\n\u001b[1;32m    198\u001b[0m     \u001b[39m# Append intermediate steps to exception, to aid in logging and later\u001b[39;00m\n\u001b[1;32m    199\u001b[0m     \u001b[39m# improvement of few shot prompt seeds\u001b[39;00m\n\u001b[1;32m    200\u001b[0m     exc\u001b[39m.\u001b[39mintermediate_steps \u001b[39m=\u001b[39m intermediate_steps  \u001b[39m# type: ignore\u001b[39;00m\n\u001b[0;32m--> 201\u001b[0m     \u001b[39mraise\u001b[39;00m exc\n",
            "File \u001b[0;32m~/Documents/CO-pilot/llm-env/lib/python3.9/site-packages/langchain_experimental/sql/base.py:146\u001b[0m, in \u001b[0;36mSQLDatabaseChain._call\u001b[0;34m(self, inputs, run_manager)\u001b[0m\n\u001b[1;32m    144\u001b[0m     \u001b[39mif\u001b[39;00m SQL_QUERY \u001b[39min\u001b[39;00m sql_cmd:\n\u001b[1;32m    145\u001b[0m         sql_cmd \u001b[39m=\u001b[39m sql_cmd\u001b[39m.\u001b[39msplit(SQL_QUERY)[\u001b[39m1\u001b[39m]\u001b[39m.\u001b[39mstrip()\n\u001b[0;32m--> 146\u001b[0m     result \u001b[39m=\u001b[39m \u001b[39mself\u001b[39;49m\u001b[39m.\u001b[39;49mdatabase\u001b[39m.\u001b[39;49mrun(sql_cmd)\n\u001b[1;32m    147\u001b[0m     intermediate_steps\u001b[39m.\u001b[39mappend(\u001b[39mstr\u001b[39m(result))  \u001b[39m# output: sql exec\u001b[39;00m\n\u001b[1;32m    148\u001b[0m \u001b[39melse\u001b[39;00m:\n",
            "File \u001b[0;32m~/Documents/CO-pilot/llm-env/lib/python3.9/site-packages/langchain/utilities/sql_database.py:433\u001b[0m, in \u001b[0;36mSQLDatabase.run\u001b[0;34m(self, command, fetch)\u001b[0m\n\u001b[1;32m    423\u001b[0m \u001b[39mdef\u001b[39;00m \u001b[39mrun\u001b[39m(\n\u001b[1;32m    424\u001b[0m     \u001b[39mself\u001b[39m,\n\u001b[1;32m    425\u001b[0m     command: \u001b[39mstr\u001b[39m,\n\u001b[1;32m    426\u001b[0m     fetch: Union[Literal[\u001b[39m\"\u001b[39m\u001b[39mall\u001b[39m\u001b[39m\"\u001b[39m], Literal[\u001b[39m\"\u001b[39m\u001b[39mone\u001b[39m\u001b[39m\"\u001b[39m]] \u001b[39m=\u001b[39m \u001b[39m\"\u001b[39m\u001b[39mall\u001b[39m\u001b[39m\"\u001b[39m,\n\u001b[1;32m    427\u001b[0m ) \u001b[39m-\u001b[39m\u001b[39m>\u001b[39m \u001b[39mstr\u001b[39m:\n\u001b[1;32m    428\u001b[0m \u001b[39m    \u001b[39m\u001b[39m\"\"\"Execute a SQL command and return a string representing the results.\u001b[39;00m\n\u001b[1;32m    429\u001b[0m \n\u001b[1;32m    430\u001b[0m \u001b[39m    If the statement returns rows, a string of the results is returned.\u001b[39;00m\n\u001b[1;32m    431\u001b[0m \u001b[39m    If the statement returns no rows, an empty string is returned.\u001b[39;00m\n\u001b[1;32m    432\u001b[0m \u001b[39m    \"\"\"\u001b[39;00m\n\u001b[0;32m--> 433\u001b[0m     result \u001b[39m=\u001b[39m \u001b[39mself\u001b[39;49m\u001b[39m.\u001b[39;49m_execute(command, fetch)\n\u001b[1;32m    434\u001b[0m     \u001b[39m# Convert columns values to string to avoid issues with sqlalchemy\u001b[39;00m\n\u001b[1;32m    435\u001b[0m     \u001b[39m# truncating text\u001b[39;00m\n\u001b[1;32m    436\u001b[0m     res \u001b[39m=\u001b[39m [\n\u001b[1;32m    437\u001b[0m         \u001b[39mtuple\u001b[39m(truncate_word(c, length\u001b[39m=\u001b[39m\u001b[39mself\u001b[39m\u001b[39m.\u001b[39m_max_string_length) \u001b[39mfor\u001b[39;00m c \u001b[39min\u001b[39;00m r\u001b[39m.\u001b[39mvalues())\n\u001b[1;32m    438\u001b[0m         \u001b[39mfor\u001b[39;00m r \u001b[39min\u001b[39;00m result\n\u001b[1;32m    439\u001b[0m     ]\n",
            "File \u001b[0;32m~/Documents/CO-pilot/llm-env/lib/python3.9/site-packages/langchain/utilities/sql_database.py:411\u001b[0m, in \u001b[0;36mSQLDatabase._execute\u001b[0;34m(self, command, fetch)\u001b[0m\n\u001b[1;32m    409\u001b[0m     \u001b[39melse\u001b[39;00m:  \u001b[39m# postgresql and other compatible dialects\u001b[39;00m\n\u001b[1;32m    410\u001b[0m         connection\u001b[39m.\u001b[39mexec_driver_sql(\u001b[39m\"\u001b[39m\u001b[39mSET search_path TO \u001b[39m\u001b[39m%s\u001b[39;00m\u001b[39m\"\u001b[39m, (\u001b[39mself\u001b[39m\u001b[39m.\u001b[39m_schema,))\n\u001b[0;32m--> 411\u001b[0m cursor \u001b[39m=\u001b[39m connection\u001b[39m.\u001b[39;49mexecute(text(command))\n\u001b[1;32m    412\u001b[0m \u001b[39mif\u001b[39;00m cursor\u001b[39m.\u001b[39mreturns_rows:\n\u001b[1;32m    413\u001b[0m     \u001b[39mif\u001b[39;00m fetch \u001b[39m==\u001b[39m \u001b[39m\"\u001b[39m\u001b[39mall\u001b[39m\u001b[39m\"\u001b[39m:\n",
            "File \u001b[0;32m~/Documents/CO-pilot/llm-env/lib/python3.9/site-packages/sqlalchemy/engine/base.py:1416\u001b[0m, in \u001b[0;36mConnection.execute\u001b[0;34m(self, statement, parameters, execution_options)\u001b[0m\n\u001b[1;32m   1414\u001b[0m     \u001b[39mraise\u001b[39;00m exc\u001b[39m.\u001b[39mObjectNotExecutableError(statement) \u001b[39mfrom\u001b[39;00m \u001b[39merr\u001b[39;00m\n\u001b[1;32m   1415\u001b[0m \u001b[39melse\u001b[39;00m:\n\u001b[0;32m-> 1416\u001b[0m     \u001b[39mreturn\u001b[39;00m meth(\n\u001b[1;32m   1417\u001b[0m         \u001b[39mself\u001b[39;49m,\n\u001b[1;32m   1418\u001b[0m         distilled_parameters,\n\u001b[1;32m   1419\u001b[0m         execution_options \u001b[39mor\u001b[39;49;00m NO_OPTIONS,\n\u001b[1;32m   1420\u001b[0m     )\n",
            "File \u001b[0;32m~/Documents/CO-pilot/llm-env/lib/python3.9/site-packages/sqlalchemy/sql/elements.py:516\u001b[0m, in \u001b[0;36mClauseElement._execute_on_connection\u001b[0;34m(self, connection, distilled_params, execution_options)\u001b[0m\n\u001b[1;32m    514\u001b[0m     \u001b[39mif\u001b[39;00m TYPE_CHECKING:\n\u001b[1;32m    515\u001b[0m         \u001b[39massert\u001b[39;00m \u001b[39misinstance\u001b[39m(\u001b[39mself\u001b[39m, Executable)\n\u001b[0;32m--> 516\u001b[0m     \u001b[39mreturn\u001b[39;00m connection\u001b[39m.\u001b[39;49m_execute_clauseelement(\n\u001b[1;32m    517\u001b[0m         \u001b[39mself\u001b[39;49m, distilled_params, execution_options\n\u001b[1;32m    518\u001b[0m     )\n\u001b[1;32m    519\u001b[0m \u001b[39melse\u001b[39;00m:\n\u001b[1;32m    520\u001b[0m     \u001b[39mraise\u001b[39;00m exc\u001b[39m.\u001b[39mObjectNotExecutableError(\u001b[39mself\u001b[39m)\n",
            "File \u001b[0;32m~/Documents/CO-pilot/llm-env/lib/python3.9/site-packages/sqlalchemy/engine/base.py:1639\u001b[0m, in \u001b[0;36mConnection._execute_clauseelement\u001b[0;34m(self, elem, distilled_parameters, execution_options)\u001b[0m\n\u001b[1;32m   1627\u001b[0m compiled_cache: Optional[CompiledCacheType] \u001b[39m=\u001b[39m execution_options\u001b[39m.\u001b[39mget(\n\u001b[1;32m   1628\u001b[0m     \u001b[39m\"\u001b[39m\u001b[39mcompiled_cache\u001b[39m\u001b[39m\"\u001b[39m, \u001b[39mself\u001b[39m\u001b[39m.\u001b[39mengine\u001b[39m.\u001b[39m_compiled_cache\n\u001b[1;32m   1629\u001b[0m )\n\u001b[1;32m   1631\u001b[0m compiled_sql, extracted_params, cache_hit \u001b[39m=\u001b[39m elem\u001b[39m.\u001b[39m_compile_w_cache(\n\u001b[1;32m   1632\u001b[0m     dialect\u001b[39m=\u001b[39mdialect,\n\u001b[1;32m   1633\u001b[0m     compiled_cache\u001b[39m=\u001b[39mcompiled_cache,\n\u001b[0;32m   (...)\u001b[0m\n\u001b[1;32m   1637\u001b[0m     linting\u001b[39m=\u001b[39m\u001b[39mself\u001b[39m\u001b[39m.\u001b[39mdialect\u001b[39m.\u001b[39mcompiler_linting \u001b[39m|\u001b[39m compiler\u001b[39m.\u001b[39mWARN_LINTING,\n\u001b[1;32m   1638\u001b[0m )\n\u001b[0;32m-> 1639\u001b[0m ret \u001b[39m=\u001b[39m \u001b[39mself\u001b[39;49m\u001b[39m.\u001b[39;49m_execute_context(\n\u001b[1;32m   1640\u001b[0m     dialect,\n\u001b[1;32m   1641\u001b[0m     dialect\u001b[39m.\u001b[39;49mexecution_ctx_cls\u001b[39m.\u001b[39;49m_init_compiled,\n\u001b[1;32m   1642\u001b[0m     compiled_sql,\n\u001b[1;32m   1643\u001b[0m     distilled_parameters,\n\u001b[1;32m   1644\u001b[0m     execution_options,\n\u001b[1;32m   1645\u001b[0m     compiled_sql,\n\u001b[1;32m   1646\u001b[0m     distilled_parameters,\n\u001b[1;32m   1647\u001b[0m     elem,\n\u001b[1;32m   1648\u001b[0m     extracted_params,\n\u001b[1;32m   1649\u001b[0m     cache_hit\u001b[39m=\u001b[39;49mcache_hit,\n\u001b[1;32m   1650\u001b[0m )\n\u001b[1;32m   1651\u001b[0m \u001b[39mif\u001b[39;00m has_events:\n\u001b[1;32m   1652\u001b[0m     \u001b[39mself\u001b[39m\u001b[39m.\u001b[39mdispatch\u001b[39m.\u001b[39mafter_execute(\n\u001b[1;32m   1653\u001b[0m         \u001b[39mself\u001b[39m,\n\u001b[1;32m   1654\u001b[0m         elem,\n\u001b[0;32m   (...)\u001b[0m\n\u001b[1;32m   1658\u001b[0m         ret,\n\u001b[1;32m   1659\u001b[0m     )\n",
            "File \u001b[0;32m~/Documents/CO-pilot/llm-env/lib/python3.9/site-packages/sqlalchemy/engine/base.py:1848\u001b[0m, in \u001b[0;36mConnection._execute_context\u001b[0;34m(self, dialect, constructor, statement, parameters, execution_options, *args, **kw)\u001b[0m\n\u001b[1;32m   1843\u001b[0m     \u001b[39mreturn\u001b[39;00m \u001b[39mself\u001b[39m\u001b[39m.\u001b[39m_exec_insertmany_context(\n\u001b[1;32m   1844\u001b[0m         dialect,\n\u001b[1;32m   1845\u001b[0m         context,\n\u001b[1;32m   1846\u001b[0m     )\n\u001b[1;32m   1847\u001b[0m \u001b[39melse\u001b[39;00m:\n\u001b[0;32m-> 1848\u001b[0m     \u001b[39mreturn\u001b[39;00m \u001b[39mself\u001b[39;49m\u001b[39m.\u001b[39;49m_exec_single_context(\n\u001b[1;32m   1849\u001b[0m         dialect, context, statement, parameters\n\u001b[1;32m   1850\u001b[0m     )\n",
            "File \u001b[0;32m~/Documents/CO-pilot/llm-env/lib/python3.9/site-packages/sqlalchemy/engine/base.py:1988\u001b[0m, in \u001b[0;36mConnection._exec_single_context\u001b[0;34m(self, dialect, context, statement, parameters)\u001b[0m\n\u001b[1;32m   1985\u001b[0m     result \u001b[39m=\u001b[39m context\u001b[39m.\u001b[39m_setup_result_proxy()\n\u001b[1;32m   1987\u001b[0m \u001b[39mexcept\u001b[39;00m \u001b[39mBaseException\u001b[39;00m \u001b[39mas\u001b[39;00m e:\n\u001b[0;32m-> 1988\u001b[0m     \u001b[39mself\u001b[39;49m\u001b[39m.\u001b[39;49m_handle_dbapi_exception(\n\u001b[1;32m   1989\u001b[0m         e, str_statement, effective_parameters, cursor, context\n\u001b[1;32m   1990\u001b[0m     )\n\u001b[1;32m   1992\u001b[0m \u001b[39mreturn\u001b[39;00m result\n",
            "File \u001b[0;32m~/Documents/CO-pilot/llm-env/lib/python3.9/site-packages/sqlalchemy/engine/base.py:2343\u001b[0m, in \u001b[0;36mConnection._handle_dbapi_exception\u001b[0;34m(self, e, statement, parameters, cursor, context, is_sub_exec)\u001b[0m\n\u001b[1;32m   2341\u001b[0m \u001b[39melif\u001b[39;00m should_wrap:\n\u001b[1;32m   2342\u001b[0m     \u001b[39massert\u001b[39;00m sqlalchemy_exception \u001b[39mis\u001b[39;00m \u001b[39mnot\u001b[39;00m \u001b[39mNone\u001b[39;00m\n\u001b[0;32m-> 2343\u001b[0m     \u001b[39mraise\u001b[39;00m sqlalchemy_exception\u001b[39m.\u001b[39mwith_traceback(exc_info[\u001b[39m2\u001b[39m]) \u001b[39mfrom\u001b[39;00m \u001b[39me\u001b[39;00m\n\u001b[1;32m   2344\u001b[0m \u001b[39melse\u001b[39;00m:\n\u001b[1;32m   2345\u001b[0m     \u001b[39massert\u001b[39;00m exc_info[\u001b[39m1\u001b[39m] \u001b[39mis\u001b[39;00m \u001b[39mnot\u001b[39;00m \u001b[39mNone\u001b[39;00m\n",
            "File \u001b[0;32m~/Documents/CO-pilot/llm-env/lib/python3.9/site-packages/sqlalchemy/engine/base.py:1969\u001b[0m, in \u001b[0;36mConnection._exec_single_context\u001b[0;34m(self, dialect, context, statement, parameters)\u001b[0m\n\u001b[1;32m   1967\u001b[0m                 \u001b[39mbreak\u001b[39;00m\n\u001b[1;32m   1968\u001b[0m     \u001b[39mif\u001b[39;00m \u001b[39mnot\u001b[39;00m evt_handled:\n\u001b[0;32m-> 1969\u001b[0m         \u001b[39mself\u001b[39;49m\u001b[39m.\u001b[39;49mdialect\u001b[39m.\u001b[39;49mdo_execute(\n\u001b[1;32m   1970\u001b[0m             cursor, str_statement, effective_parameters, context\n\u001b[1;32m   1971\u001b[0m         )\n\u001b[1;32m   1973\u001b[0m \u001b[39mif\u001b[39;00m \u001b[39mself\u001b[39m\u001b[39m.\u001b[39m_has_events \u001b[39mor\u001b[39;00m \u001b[39mself\u001b[39m\u001b[39m.\u001b[39mengine\u001b[39m.\u001b[39m_has_events:\n\u001b[1;32m   1974\u001b[0m     \u001b[39mself\u001b[39m\u001b[39m.\u001b[39mdispatch\u001b[39m.\u001b[39mafter_cursor_execute(\n\u001b[1;32m   1975\u001b[0m         \u001b[39mself\u001b[39m,\n\u001b[1;32m   1976\u001b[0m         cursor,\n\u001b[0;32m   (...)\u001b[0m\n\u001b[1;32m   1980\u001b[0m         context\u001b[39m.\u001b[39mexecutemany,\n\u001b[1;32m   1981\u001b[0m     )\n",
            "File \u001b[0;32m~/Documents/CO-pilot/llm-env/lib/python3.9/site-packages/sqlalchemy/engine/default.py:922\u001b[0m, in \u001b[0;36mDefaultDialect.do_execute\u001b[0;34m(self, cursor, statement, parameters, context)\u001b[0m\n\u001b[1;32m    921\u001b[0m \u001b[39mdef\u001b[39;00m \u001b[39mdo_execute\u001b[39m(\u001b[39mself\u001b[39m, cursor, statement, parameters, context\u001b[39m=\u001b[39m\u001b[39mNone\u001b[39;00m):\n\u001b[0;32m--> 922\u001b[0m     cursor\u001b[39m.\u001b[39;49mexecute(statement, parameters)\n",
            "\u001b[0;31mProgrammingError\u001b[0m: (psycopg2.errors.UndefinedColumn) column discounts.start_date does not exist\nLINE 4: ...hirts.stock_quantity > 0 AND CURRENT_DATE BETWEEN discounts....\n                                                             ^\n\n[SQL: SELECT SUM(t_shirts.price * (1 - discounts.pct_discount)) \nFROM t_shirts \nJOIN discounts ON t_shirts.t_shirt_id = discounts.t_shirt_id \nWHERE t_shirts.brand = 'Levi' AND t_shirts.stock_quantity > 0 AND CURRENT_DATE BETWEEN discounts.start_date AND discounts.end_date]\n(Background on this error at: https://sqlalche.me/e/20/f405)"
          ]
        }
      ],
      "source": [
        "qns6 = db_chain.run(\"If we have to sell all the Levi’s T-shirts today with discounts applied. How much revenue our store will generate (post discounts)?\")\n",
        "# retured wrong query like considering discount start date which dodent exists"
      ]
    },
    {
      "cell_type": "code",
      "execution_count": null,
      "metadata": {
        "id": "oa4n-AXt2vO1",
        "outputId": "483efd13-8e95-4411-8cc8-ed56e8b01e4a"
      },
      "outputs": [
        {
          "name": "stdout",
          "output_type": "stream",
          "text": [
            "\n",
            "\n",
            "\u001b[1m> Entering new SQLDatabaseChain chain...\u001b[0m\n",
            "\n",
            "select sum(a.total_amount * ((100-COALESCE(discounts.pct_discount,0))/100)) as total_revenue from\n",
            "(select sum(price*stock_quantity) as total_amount, t_shirt_id from t_shirts where brand = 'Levi'\n",
            "group by t_shirt_id) a left join discounts on a.t_shirt_id = discounts.t_shirt_id\n",
            " \n",
            "SQLQuery:\u001b[32;1m\u001b[1;3mselect sum(a.total_amount * ((100-COALESCE(discounts.pct_discount,0))/100)) as total_revenue from\n",
            "(select sum(price*stock_quantity) as total_amount, t_shirt_id from t_shirts where brand = 'Levi'\n",
            "group by t_shirt_id) a left join discounts on a.t_shirt_id = discounts.t_shirt_id\u001b[0m\n",
            "SQLResult: \u001b[33;1m\u001b[1;3m[(Decimal('17678.00000000000000000000'),)]\u001b[0m\n",
            "Answer:\u001b[32;1m\u001b[1;3m17678.00\u001b[0m\n",
            "\u001b[1m> Finished chain.\u001b[0m\n"
          ]
        }
      ],
      "source": [
        "\n",
        "sql_code = \"\"\"\n",
        "select sum(a.total_amount * ((100-COALESCE(discounts.pct_discount,0))/100)) as total_revenue from\n",
        "(select sum(price*stock_quantity) as total_amount, t_shirt_id from t_shirts where brand = 'Levi'\n",
        "group by t_shirt_id) a left join discounts on a.t_shirt_id = discounts.t_shirt_id\n",
        " \"\"\"\n",
        "\n",
        "qns6 = db_chain.run(sql_code)\n",
        "# expected query"
      ]
    },
    {
      "cell_type": "code",
      "execution_count": null,
      "metadata": {
        "id": "WodFCFHA2vO4",
        "outputId": "9c6d3790-f584-48d5-c486-8ee1eca3f4a6"
      },
      "outputs": [
        {
          "name": "stdout",
          "output_type": "stream",
          "text": [
            "\n",
            "\n",
            "\u001b[1m> Entering new SQLDatabaseChain chain...\u001b[0m\n",
            "How many white color Adidas t shirts we have available?\n",
            "SQLQuery:\u001b[32;1m\u001b[1;3mSELECT stock_quantity FROM t_shirts WHERE brand = 'Adidas' AND color = 'White'\u001b[0m\n",
            "SQLResult: \u001b[33;1m\u001b[1;3m[(80,), (88,), (120,)]\u001b[0m\n",
            "Answer:\u001b[32;1m\u001b[1;3m88\u001b[0m\n",
            "\u001b[1m> Finished chain.\u001b[0m\n"
          ]
        }
      ],
      "source": [
        "qns7 = db_chain.run(\"How many white color Adidas t shirts we have available?\")"
      ]
    },
    {
      "cell_type": "code",
      "execution_count": null,
      "metadata": {
        "id": "OCNwG33G2vO6",
        "outputId": "5006287a-1846-450a-e276-e66481703dda"
      },
      "outputs": [
        {
          "data": {
            "text/plain": [
              "'80'"
            ]
          },
          "execution_count": 196,
          "metadata": {},
          "output_type": "execute_result"
        }
      ],
      "source": [
        "qns7\n",
        "# wrong - It should have summed"
      ]
    },
    {
      "cell_type": "markdown",
      "metadata": {
        "id": "vLA-icRC2vO7"
      },
      "source": [
        "## 3. Few Shot Learning - Intitilizing data for traning llm"
      ]
    },
    {
      "cell_type": "code",
      "execution_count": null,
      "metadata": {
        "id": "MB3k0AyS2vO8",
        "outputId": "a64fed9c-7fb7-42cd-b208-f5f56f23a889"
      },
      "outputs": [
        {
          "name": "stdout",
          "output_type": "stream",
          "text": [
            "\n",
            "\n",
            "\u001b[1m> Entering new SQLDatabaseChain chain...\u001b[0m\n",
            "How many t-shirts do we have left for Nike in XS size and white color?\n",
            "SQLQuery:"
          ]
        },
        {
          "name": "stderr",
          "output_type": "stream",
          "text": [
            "Retrying langchain.llms.google_palm.completion_with_retry.<locals>._completion_with_retry in 4.0 seconds as it raised ServiceUnavailable: 503 The service is currently unavailable..\n"
          ]
        },
        {
          "name": "stdout",
          "output_type": "stream",
          "text": [
            "\u001b[32;1m\u001b[1;3mSELECT stock_quantity FROM t_shirts WHERE brand = 'Nike' AND color = 'White' AND size = 'XS'\u001b[0m\n",
            "SQLResult: \u001b[33;1m\u001b[1;3m\u001b[0m\n",
            "Answer:\u001b[32;1m\u001b[1;3m100\u001b[0m\n",
            "\u001b[1m> Finished chain.\u001b[0m\n"
          ]
        }
      ],
      "source": [
        "fsl1 = db_chain.run(\"How many t-shirts do we have left for Nike in XS size and white color?\")"
      ]
    },
    {
      "cell_type": "code",
      "execution_count": null,
      "metadata": {
        "id": "NBZR1zYM2vO-",
        "outputId": "99aeef64-ef9f-4550-b204-c8a714f1e273"
      },
      "outputs": [
        {
          "name": "stdout",
          "output_type": "stream",
          "text": [
            "\n",
            "\n",
            "\u001b[1m> Entering new SQLDatabaseChain chain...\u001b[0m\n",
            "How much is the total price of the inventory for all S-size t-shirts?\n",
            "SQLQuery:\u001b[32;1m\u001b[1;3mSELECT SUM(price * stock_quantity) FROM t_shirts WHERE size = 'S'\u001b[0m\n",
            "SQLResult: \u001b[33;1m\u001b[1;3m[(14034,)]\u001b[0m\n",
            "Answer:\u001b[32;1m\u001b[1;3m14034\u001b[0m\n",
            "\u001b[1m> Finished chain.\u001b[0m\n"
          ]
        }
      ],
      "source": [
        "fsl2 = db_chain.run(\"How much is the total price of the inventory for all S-size t-shirts?\")"
      ]
    },
    {
      "cell_type": "code",
      "execution_count": null,
      "metadata": {
        "id": "u6NHMBPf2vPA",
        "outputId": "953aac45-670e-495f-ff93-abbbc246e112"
      },
      "outputs": [
        {
          "name": "stdout",
          "output_type": "stream",
          "text": [
            "\n",
            "\n",
            "\u001b[1m> Entering new SQLDatabaseChain chain...\u001b[0m\n",
            "If we have to sell all the Levi’s T-shirts today with discounts applied. How much revenue  our store will generate (post discounts)?\n",
            "SQLQuery:\u001b[32;1m\u001b[1;3mSELECT SUM(t_shirts.price * (1 - discounts.pct_discount))\n",
            "FROM t_shirts\n",
            "JOIN discounts ON discounts.t_shirt_id = t_shirts.t_shirt_id\n",
            "WHERE t_shirts.brand = 'Levi' AND t_shirts.stock_quantity > 0 AND discounts.pct_discount > 0\u001b[0m\n",
            "SQLResult: \u001b[33;1m\u001b[1;3m[(Decimal('-1875.00'),)]\u001b[0m\n",
            "Answer:\u001b[32;1m\u001b[1;3m-1875.00\u001b[0m\n",
            "\u001b[1m> Finished chain.\u001b[0m\n"
          ]
        }
      ],
      "source": [
        "fsl3 = db_chain.run(\"If we have to sell all the Levi’s T-shirts today with discounts applied. How much revenue  our store will generate (post discounts)?\")"
      ]
    },
    {
      "cell_type": "code",
      "execution_count": null,
      "metadata": {
        "id": "ZT5TuUx_2vPD",
        "outputId": "1e28f657-0c94-4e75-b16f-dec7e9735361"
      },
      "outputs": [
        {
          "name": "stdout",
          "output_type": "stream",
          "text": [
            "\n",
            "\n",
            "\u001b[1m> Entering new SQLDatabaseChain chain...\u001b[0m\n",
            "If we have to sell all the Levi’s T-shirts today. How much revenue our store will generate without discount?\n",
            "SQLQuery:\u001b[32;1m\u001b[1;3mSELECT SUM(price) FROM t_shirts WHERE brand = 'Levi' AND stock_quantity > 0\u001b[0m\n",
            "SQLResult: \u001b[33;1m\u001b[1;3m[(222,)]\u001b[0m\n",
            "Answer:\u001b[32;1m\u001b[1;3m222\u001b[0m\n",
            "\u001b[1m> Finished chain.\u001b[0m\n"
          ]
        }
      ],
      "source": [
        "fsl4 = db_chain.run(\"If we have to sell all the Levi’s T-shirts today. How much revenue our store will generate without discount?\")"
      ]
    },
    {
      "cell_type": "code",
      "execution_count": null,
      "metadata": {
        "id": "Lgy4KmRj2vPF",
        "outputId": "a1568484-2477-4b7c-c7e9-cb79294fe6d9"
      },
      "outputs": [
        {
          "name": "stdout",
          "output_type": "stream",
          "text": [
            "\n",
            "\n",
            "\u001b[1m> Entering new SQLDatabaseChain chain...\u001b[0m\n",
            "SELECT sum(stock_quantity) FROM t_shirts WHERE brand = 'Levi' AND color = 'Blue'\n",
            "SQLQuery:\u001b[32;1m\u001b[1;3mSELECT sum(stock_quantity) FROM t_shirts WHERE brand = 'Levi' AND color = 'Blue'\u001b[0m\n",
            "SQLResult: \u001b[33;1m\u001b[1;3m[(353,)]\u001b[0m\n",
            "Answer:\u001b[32;1m\u001b[1;3m353\u001b[0m\n",
            "\u001b[1m> Finished chain.\u001b[0m\n"
          ]
        }
      ],
      "source": [
        "fsl5 = db_chain.run(\"SELECT sum(stock_quantity) FROM t_shirts WHERE brand = 'Levi' AND color = 'Blue'\")"
      ]
    },
    {
      "cell_type": "code",
      "execution_count": null,
      "metadata": {
        "id": "kNol4XLE2vPH",
        "outputId": "083687d4-046e-4b10-c7dd-744b01950aec"
      },
      "outputs": [
        {
          "name": "stdout",
          "output_type": "stream",
          "text": [
            "\n",
            "\n",
            "\u001b[1m> Entering new SQLDatabaseChain chain...\u001b[0m\n",
            "SELECT sum(stock_quantity) FROM t_shirts WHERE brand = 'Van Huesen' AND color = 'Red'\n",
            "SQLQuery:\u001b[32;1m\u001b[1;3mSELECT sum(stock_quantity) FROM t_shirts WHERE brand = 'Van Huesen' AND color = 'Red'\u001b[0m\n",
            "SQLResult: \u001b[33;1m\u001b[1;3m[(245,)]\u001b[0m\n",
            "Answer:\u001b[32;1m\u001b[1;3m245\u001b[0m\n",
            "\u001b[1m> Finished chain.\u001b[0m\n"
          ]
        }
      ],
      "source": [
        "fsl6 = db_chain.run(\"SELECT sum(stock_quantity) FROM t_shirts WHERE brand = 'Van Huesen' AND color = 'Red'\")"
      ]
    },
    {
      "cell_type": "code",
      "execution_count": null,
      "metadata": {
        "id": "QHCvT5za2vPI",
        "outputId": "943444b3-1d5a-47ae-bb1e-d32ec78f4f5b"
      },
      "outputs": [
        {
          "name": "stdout",
          "output_type": "stream",
          "text": [
            "\n",
            "\n",
            "\u001b[1m> Entering new SQLDatabaseChain chain...\u001b[0m\n",
            "SELECT sum(stock_quantity) FROM t_shirts WHERE brand = 'Adidas' AND color = 'White'\n",
            "SQLQuery:\u001b[32;1m\u001b[1;3mSELECT sum(stock_quantity) FROM t_shirts WHERE brand = 'Adidas' AND color = 'White'\u001b[0m\n",
            "SQLResult: \u001b[33;1m\u001b[1;3m[(288,)]\u001b[0m\n",
            "Answer:\u001b[32;1m\u001b[1;3m288\u001b[0m\n",
            "\u001b[1m> Finished chain.\u001b[0m\n"
          ]
        }
      ],
      "source": [
        "fsl7 = db_chain.run(\"SELECT sum(stock_quantity) FROM t_shirts WHERE brand = 'Adidas' AND color = 'White'\")"
      ]
    },
    {
      "cell_type": "code",
      "execution_count": null,
      "metadata": {
        "id": "LcL2VmWw2vPJ"
      },
      "outputs": [],
      "source": [
        "few_shots = [\n",
        "    {'Question' : \"How many t-shirts do we have left for Nike in XS size and white color?\",\n",
        "     'SQLQuery' : \"SELECT sum(stock_quantity) FROM t_shirts WHERE brand = 'Nike' AND color = 'White' AND size = 'XS'\",\n",
        "     'SQLResult': \"Result of the SQL query\",\n",
        "     'Answer' : fsl1},\n",
        "    {'Question': \"How much is the total price of the inventory for all S-size t-shirts?\",\n",
        "     'SQLQuery':\"SELECT SUM(price*stock_quantity) FROM t_shirts WHERE size = 'S'\",\n",
        "     'SQLResult': \"Result of the SQL query\",\n",
        "     'Answer': fsl2},\n",
        "    {'Question': \"If we have to sell all the Levi’s T-shirts today with discounts applied. How much revenue  our store will generate (post discounts)?\" ,\n",
        "     'SQLQuery' : \"\"\"SELECT sum(a.total_amount * ((100-COALESCE(discounts.pct_discount,0))/100)) as total_revenue from\n",
        "        (select sum(price*stock_quantity) as total_amount, t_shirt_id from t_shirts where brand = 'Levi'\n",
        "        group by t_shirt_id) a left join discounts on a.t_shirt_id = discounts.t_shirt_id\n",
        "        \"\"\",\n",
        "     'SQLResult': \"Result of the SQL query\",\n",
        "     'Answer': fsl3} ,\n",
        "     {'Question' : \"If we have to sell all the Levi’s T-shirts today. How much revenue our store will generate without discount?\" ,\n",
        "      'SQLQuery': \"SELECT SUM(price * stock_quantity) FROM t_shirts WHERE brand = 'Levi'\",\n",
        "      'SQLResult': \"Result of the SQL query\",\n",
        "      'Answer' : fsl4},\n",
        "    {'Question': \"How many Blue color Levi's shirt I have?\",\n",
        "     'SQLQuery' : \"SELECT sum(stock_quantity) FROM t_shirts WHERE brand = 'Levi' AND color = 'Blue'\",\n",
        "     'SQLResult': \"Result of the SQL query\",\n",
        "     'Answer' : fsl5\n",
        "     },\n",
        "     {'Question': \"How many Red color Van Huesen shirt I have?\",\n",
        "     'SQLQuery' : \"SELECT sum(stock_quantity) FROM t_shirts WHERE brand = 'Van Huesen' AND color = 'Red'\",\n",
        "     'SQLResult': \"Result of the SQL query\",\n",
        "     'Answer' : fsl6\n",
        "     },\n",
        "     {'Question': \"How many White color Adidas shirt I have?\",\n",
        "     'SQLQuery' : \"SELECT sum(stock_quantity) FROM t_shirts WHERE brand = 'Adidas' AND color = 'White'\",\n",
        "     'SQLResult': \"Result of the SQL query\",\n",
        "     'Answer' : fsl7\n",
        "     },\n",
        "]"
      ]
    },
    {
      "cell_type": "markdown",
      "metadata": {
        "id": "mL6ztJec2vPL"
      },
      "source": [
        "## 4. Embeding few_shots tranining data"
      ]
    },
    {
      "cell_type": "code",
      "execution_count": null,
      "metadata": {
        "id": "zzvi8E9G2vPM",
        "outputId": "85be2ded-f7ab-4f8d-9316-1718cbb332d9"
      },
      "outputs": [
        {
          "name": "stderr",
          "output_type": "stream",
          "text": [
            "No sentence-transformers model found with name /home/ubuntu/.cache/torch/sentence_transformers/bert-base-uncased. Creating a new one with MEAN pooling.\n"
          ]
        }
      ],
      "source": [
        "#combined code\n",
        "from langchain.embeddings import HuggingFaceEmbeddings\n",
        "\n",
        "# Use a HuggingFace model with a matching dimension (e.g., 'bert-base-uncased' with 768 dimensions)\n",
        "# embeddings = HuggingFaceEmbeddings(model_name='sentence-transformers/all-MiniLM-L6-v2')  with 384 dimensions)\n",
        "embeddings = HuggingFaceEmbeddings(model_name='bert-base-uncased')\n",
        "\n",
        "# Create a list of texts from the 'few_shots' examples\n",
        "to_vectorize = [\" \".join(example.values()) for example in few_shots]"
      ]
    },
    {
      "cell_type": "code",
      "execution_count": null,
      "metadata": {
        "id": "-9hjBRlS2vPN",
        "outputId": "c7584ec0-73b5-4c8d-eb16-b1ac7c014ad4"
      },
      "outputs": [
        {
          "data": {
            "text/plain": [
              "\"How many Blue color Levi's shirt I have? SELECT sum(stock_quantity) FROM t_shirts WHERE brand = 'Levi' AND color = 'Blue' Result of the SQL query 353\""
            ]
          },
          "execution_count": 134,
          "metadata": {},
          "output_type": "execute_result"
        }
      ],
      "source": [
        "to_vectorize[4]"
      ]
    },
    {
      "cell_type": "markdown",
      "metadata": {
        "id": "a3cWmnAW2vPO"
      },
      "source": [
        "## 5. Creating vector Database to store embedded data"
      ]
    },
    {
      "cell_type": "code",
      "execution_count": null,
      "metadata": {
        "id": "VOiUlpKj2vPP"
      },
      "outputs": [],
      "source": [
        "# Create a Chroma vector store\n",
        "from langchain.vectorstores import Chroma\n",
        "\n",
        "vectorstore = Chroma.from_texts(to_vectorize, embedding=embeddings, metadatas=few_shots)\n"
      ]
    },
    {
      "cell_type": "code",
      "execution_count": null,
      "metadata": {
        "id": "d0U_x7B02vPQ",
        "outputId": "c849cc2d-47e9-42cb-f036-70c44d86e668"
      },
      "outputs": [
        {
          "data": {
            "text/plain": [
              "[{'Answer': '353',\n",
              "  'Question': \"How many Blue color Levi's shirt I have?\",\n",
              "  'SQLQuery': \"SELECT sum(stock_quantity) FROM t_shirts WHERE brand = 'Levi' AND color = 'Blue'\",\n",
              "  'SQLResult': 'Result of the SQL query'},\n",
              " {'Answer': '353',\n",
              "  'Question': \"How many Blue color Levi's shirt I have?\",\n",
              "  'SQLQuery': \"SELECT sum(stock_quantity) FROM t_shirts WHERE brand = 'Levi' AND color = 'Blue'\",\n",
              "  'SQLResult': 'Result of the SQL query'}]"
            ]
          },
          "execution_count": 136,
          "metadata": {},
          "output_type": "execute_result"
        }
      ],
      "source": [
        "## validating similarity of trained data\n",
        "\n",
        "from langchain.prompts import SemanticSimilarityExampleSelector\n",
        "\n",
        "example_selector = SemanticSimilarityExampleSelector(\n",
        "    vectorstore=vectorstore,\n",
        "    k=2,\n",
        ")\n",
        "\n",
        "example_selector.select_examples({\"Question\": \"How many Blue color Levi's shirt I have?\"})\n"
      ]
    },
    {
      "cell_type": "markdown",
      "metadata": {
        "id": "tNZfwv8Q2vPR"
      },
      "source": [
        "## 7 Finetuning Model with existing & newly trained data"
      ]
    },
    {
      "cell_type": "code",
      "execution_count": null,
      "metadata": {
        "id": "dmLQT3NS2vPS",
        "outputId": "90a75b74-5e59-443f-cd80-d5aa5af97f6d"
      },
      "outputs": [
        {
          "name": "stdout",
          "output_type": "stream",
          "text": [
            "You are a PostgreSQL expert. Given an input question, first create a syntactically correct PostgreSQL query to run, then look at the results of the query and return the answer to the input question.\n",
            "Unless the user specifies in the question a specific number of examples to obtain, query for at most {top_k} results using the LIMIT clause as per PostgreSQL. You can order the results to return the most informative data in the database.\n",
            "Never query for all columns from a table. You must query only the columns that are needed to answer the question. Wrap each column name in double quotes (\") to denote them as delimited identifiers.\n",
            "Pay attention to use only the column names you can see in the tables below. Be careful to not query for columns that do not exist. Also, pay attention to which column is in which table.\n",
            "Pay attention to use CURRENT_DATE function to get the current date, if the question involves \"today\".\n",
            "\n",
            "Use the following format:\n",
            "\n",
            "Question: Question here\n",
            "SQLQuery: SQL Query to run\n",
            "SQLResult: Result of the SQLQuery\n",
            "Answer: Final answer here\n",
            "\n",
            "\n",
            "------------------------------------\n",
            "Only use the following tables:\n",
            "{table_info}\n",
            "\n",
            "Question: {input}\n"
          ]
        }
      ],
      "source": [
        "## giving instructions to llms\n",
        "from langchain.prompts import FewShotPromptTemplate\n",
        "from langchain.chains.sql_database.prompt import PROMPT_SUFFIX, _postgres_prompt\n",
        "\n",
        "print(_postgres_prompt)\n",
        "print(\"------------------------------------\")\n",
        "print(PROMPT_SUFFIX)"
      ]
    },
    {
      "cell_type": "code",
      "execution_count": null,
      "metadata": {
        "id": "E9T1mUs42vPT"
      },
      "outputs": [],
      "source": [
        "from langchain.prompts.prompt import PromptTemplate\n",
        "\n",
        "example_prompt = PromptTemplate(\n",
        "    input_variables=[\"Question\", \"SQLQuery\", \"SQLResult\",\"Answer\",],\n",
        "    template=\"\\nQuestion: {Question}\\nSQLQuery: {SQLQuery}\\nSQLResult: {SQLResult}\\nAnswer: {Answer}\",\n",
        ")"
      ]
    },
    {
      "cell_type": "code",
      "execution_count": null,
      "metadata": {
        "id": "cPcbUE6f2vPU"
      },
      "outputs": [],
      "source": [
        "from langchain.prompts import FewShotPromptTemplate\n",
        "\n",
        "few_shot_prompt = FewShotPromptTemplate(\n",
        "    example_selector=example_selector,\n",
        "    example_prompt=example_prompt,\n",
        "    prefix=_postgres_prompt,\n",
        "    suffix=PROMPT_SUFFIX,\n",
        "    input_variables=[\"input\", \"table_info\", \"top_k\"], #These variables are used in the prefix and suffix\n",
        ")"
      ]
    },
    {
      "cell_type": "code",
      "execution_count": null,
      "metadata": {
        "id": "cQ8hyOTE2vPV"
      },
      "outputs": [],
      "source": [
        "new_chain = SQLDatabaseChain.from_llm(llm, database, verbose=True, prompt=few_shot_prompt)"
      ]
    },
    {
      "cell_type": "markdown",
      "metadata": {
        "id": "BZ6j2g4O2vPW"
      },
      "source": [
        "## 8 Trying out latest finetuned model"
      ]
    },
    {
      "cell_type": "code",
      "execution_count": null,
      "metadata": {
        "id": "sX5ImWJj2vPt",
        "outputId": "7820ad53-968c-45e1-cd5e-a4decfa0e7b5"
      },
      "outputs": [
        {
          "name": "stdout",
          "output_type": "stream",
          "text": [
            "\n",
            "\n",
            "\u001b[1m> Entering new SQLDatabaseChain chain...\u001b[0m\n",
            "Total stock_quantity of Adidas tshirt in White color I have?\n",
            "SQLQuery:\u001b[32;1m\u001b[1;3mSELECT stock_quantity FROM t_shirts WHERE brand = 'Adidas' AND color = 'White'\u001b[0m\n",
            "SQLResult: \u001b[33;1m\u001b[1;3m[(80,), (88,), (120,)]\u001b[0m\n",
            "Answer:\u001b[32;1m\u001b[1;3m80\u001b[0m\n",
            "\u001b[1m> Finished chain.\u001b[0m\n"
          ]
        },
        {
          "data": {
            "text/plain": [
              "{'query': 'Total stock_quantity of Adidas tshirt in White color I have?',\n",
              " 'result': '80'}"
            ]
          },
          "execution_count": 165,
          "metadata": {},
          "output_type": "execute_result"
        }
      ],
      "source": [
        "new_chain(\"Total stock_quantity of Adidas tshirt in White color I have?\")"
      ]
    },
    {
      "cell_type": "code",
      "execution_count": null,
      "metadata": {
        "id": "kxfZO0--2vPu",
        "outputId": "1f187b54-e00e-4dce-bc29-d7fa9960adbc"
      },
      "outputs": [
        {
          "name": "stdout",
          "output_type": "stream",
          "text": [
            "\n",
            "\n",
            "\u001b[1m> Entering new SQLDatabaseChain chain...\u001b[0m\n",
            "How much is the price of the inventory for all small size t-shirts?\n",
            "SQLQuery:\u001b[32;1m\u001b[1;3mSELECT sum(price * stock_quantity) FROM t_shirts WHERE size = 'S'\u001b[0m\n",
            "SQLResult: \u001b[33;1m\u001b[1;3m[(14034,)]\u001b[0m\n",
            "Answer:\u001b[32;1m\u001b[1;3m14034\u001b[0m\n",
            "\u001b[1m> Finished chain.\u001b[0m\n"
          ]
        },
        {
          "data": {
            "text/plain": [
              "{'query': 'How much is the price of the inventory for all small size t-shirts?',\n",
              " 'result': '14034'}"
            ]
          },
          "execution_count": 43,
          "metadata": {},
          "output_type": "execute_result"
        }
      ],
      "source": [
        "new_chain(\"How much is the price of the inventory for all small size t-shirts?\")"
      ]
    },
    {
      "cell_type": "code",
      "execution_count": null,
      "metadata": {
        "id": "K9my7c_A2vPv",
        "outputId": "a266b195-7074-4737-c876-2258c4b9d3d8"
      },
      "outputs": [
        {
          "name": "stdout",
          "output_type": "stream",
          "text": [
            "\n",
            "\n",
            "\u001b[1m> Entering new SQLDatabaseChain chain...\u001b[0m\n",
            "How much is the price of all white color levi t shirts?\n",
            "SQLQuery:\u001b[32;1m\u001b[1;3mSELECT sum(price) FROM t_shirts WHERE brand = 'Levi' AND color = 'White'\u001b[0m\n",
            "SQLResult: \u001b[33;1m\u001b[1;3m[(None,)]\u001b[0m\n",
            "Answer:\u001b[32;1m\u001b[1;3mNone\u001b[0m\n",
            "\u001b[1m> Finished chain.\u001b[0m\n"
          ]
        },
        {
          "data": {
            "text/plain": [
              "{'query': 'How much is the price of all white color levi t shirts?',\n",
              " 'result': 'None'}"
            ]
          },
          "execution_count": 44,
          "metadata": {},
          "output_type": "execute_result"
        }
      ],
      "source": [
        "new_chain(\"How much is the price of all white color levi t shirts?\")"
      ]
    },
    {
      "cell_type": "code",
      "execution_count": null,
      "metadata": {
        "id": "62hp-r5O2vPw",
        "outputId": "10fc6e41-eecc-4f1a-a992-6ac498a73481"
      },
      "outputs": [
        {
          "name": "stdout",
          "output_type": "stream",
          "text": [
            "\n",
            "\n",
            "\u001b[1m> Entering new SQLDatabaseChain chain...\u001b[0m\n",
            "If we have to sell all the Nike’s T-shirts today with discounts applied. How much revenue  our store will generate (post discounts)?\n",
            "SQLQuery:\u001b[32;1m\u001b[1;3mSELECT sum(t_shirts.price * (1 - discounts.pct_discount)) FROM t_shirts JOIN discounts ON t_shirts.t_shirt_id = discounts.t_shirt_id WHERE t_shirts.brand = 'Nike' AND t_shirts.stock_quantity > 0\u001b[0m\n",
            "SQLResult: \u001b[33;1m\u001b[1;3m[(Decimal('-3972.00'),)]\u001b[0m\n",
            "Answer:\u001b[32;1m\u001b[1;3m-3972.00\u001b[0m\n",
            "\u001b[1m> Finished chain.\u001b[0m\n"
          ]
        },
        {
          "data": {
            "text/plain": [
              "{'query': 'If we have to sell all the Nike’s T-shirts today with discounts applied. How much revenue  our store will generate (post discounts)?',\n",
              " 'result': '-3972.00'}"
            ]
          },
          "execution_count": 45,
          "metadata": {},
          "output_type": "execute_result"
        }
      ],
      "source": [
        "new_chain(\"If we have to sell all the Nike’s T-shirts today with discounts applied. How much revenue  our store will generate (post discounts)?\")"
      ]
    },
    {
      "cell_type": "code",
      "execution_count": null,
      "metadata": {
        "id": "43sdcryL2vPy",
        "outputId": "ebbdb1b0-e204-4107-abcd-6c1f9db5166d"
      },
      "outputs": [
        {
          "name": "stdout",
          "output_type": "stream",
          "text": [
            "\n",
            "\n",
            "\u001b[1m> Entering new SQLDatabaseChain chain...\u001b[0m\n",
            "If we have to sell all the Van Heuson T-shirts today with discounts applied. How much revenue  our store will generate (post discounts)?\n",
            "SQLQuery:\u001b[32;1m\u001b[1;3mSELECT sum(price * (1 - pct_discount)) FROM discounts JOIN t_shirts ON discounts.t_shirt_id = t_shirts.t_shirt_id WHERE brand = 'Van Huesen'\u001b[0m\n",
            "SQLResult: \u001b[33;1m\u001b[1;3m[(Decimal('-755.00'),)]\u001b[0m\n",
            "Answer:\u001b[32;1m\u001b[1;3m-755.00\u001b[0m\n",
            "\u001b[1m> Finished chain.\u001b[0m\n"
          ]
        },
        {
          "data": {
            "text/plain": [
              "{'query': 'If we have to sell all the Van Heuson T-shirts today with discounts applied. How much revenue  our store will generate (post discounts)?',\n",
              " 'result': '-755.00'}"
            ]
          },
          "execution_count": 46,
          "metadata": {},
          "output_type": "execute_result"
        }
      ],
      "source": [
        "new_chain(\"If we have to sell all the Van Heuson T-shirts today with discounts applied. How much revenue  our store will generate (post discounts)?\")"
      ]
    },
    {
      "cell_type": "code",
      "execution_count": null,
      "metadata": {
        "id": "f6tBp1qI2vP0",
        "outputId": "c8059868-bd03-4a87-a0ac-22dadbfe8479"
      },
      "outputs": [
        {
          "name": "stdout",
          "output_type": "stream",
          "text": [
            "\n",
            "\n",
            "\u001b[1m> Entering new SQLDatabaseChain chain...\u001b[0m\n",
            "How much revenue  our store will generate by selling all Van Heuson TShirts without discount?\n",
            "SQLQuery:\u001b[32;1m\u001b[1;3mSELECT sum(price*stock_quantity) as total_revenue from t_shirts where brand = 'Van Huesen'\u001b[0m\n",
            "SQLResult: \u001b[33;1m\u001b[1;3m[(14135,)]\u001b[0m\n",
            "Answer:\u001b[32;1m\u001b[1;3m14135\u001b[0m\n",
            "\u001b[1m> Finished chain.\u001b[0m\n"
          ]
        },
        {
          "data": {
            "text/plain": [
              "'14135'"
            ]
          },
          "execution_count": 97,
          "metadata": {},
          "output_type": "execute_result"
        }
      ],
      "source": [
        "new_chain.run('How much revenue  our store will generate by selling all Van Heuson TShirts without discount?')"
      ]
    },
    {
      "cell_type": "code",
      "execution_count": null,
      "metadata": {
        "id": "AKySOWw02vP1",
        "outputId": "77cbbbe9-f368-44dc-986c-8d6b64a2c9c3"
      },
      "outputs": [
        {
          "name": "stdout",
          "output_type": "stream",
          "text": [
            "\n",
            "\n",
            "\u001b[1m> Entering new SQLDatabaseChain chain...\u001b[0m\n",
            "How much IS THE order amount FOR LOCATION ID 1?\n",
            "SQLQuery:\u001b[32;1m\u001b[1;3mSELECT order_amount FROM orders WHERE location_id = 1\u001b[0m\n",
            "SQLResult: \u001b[33;1m\u001b[1;3m[(Decimal('150.00'),), (Decimal('180.00'),), (Decimal('120.00'),)]\u001b[0m\n",
            "Answer:\u001b[32;1m\u001b[1;3m150.00\u001b[0m\n",
            "\u001b[1m> Finished chain.\u001b[0m\n"
          ]
        },
        {
          "data": {
            "text/plain": [
              "'150.00'"
            ]
          },
          "execution_count": 101,
          "metadata": {},
          "output_type": "execute_result"
        }
      ],
      "source": [
        "new_chain.run('How much IS THE order amount FOR LOCATION ID 1?')"
      ]
    },
    {
      "cell_type": "code",
      "execution_count": null,
      "metadata": {
        "id": "xZUmay_q2vP3",
        "outputId": "69cf5af6-669e-4396-ab1a-61bdfc8abcad"
      },
      "outputs": [
        {
          "name": "stdout",
          "output_type": "stream",
          "text": [
            "\n",
            "\n",
            "\u001b[1m> Entering new SQLDatabaseChain chain...\u001b[0m\n",
            "If we have to sell all the Levi’s T-shirts today with discounts applied. How much revenue our store will generate (post discounts)?\"\n",
            "SQLQuery:\u001b[32;1m\u001b[1;3mSELECT sum(a.total_amount * ((100-COALESCE(discounts.pct_discount,0))/100)) as total_revenue from\n",
            "       (select sum(price*stock_quantity) as total_amount, t_shirt_id from t_shirts where brand = 'Levi'\n",
            "       group by t_shirt_id) a left join discounts on a.t_shirt_id = discounts.t_shirt_id\u001b[0m\n",
            "SQLResult: \u001b[33;1m\u001b[1;3m[(Decimal('17678.00000000000000000000'),)]\u001b[0m\n",
            "Answer:\u001b[32;1m\u001b[1;3m17678.0\u001b[0m\n",
            "\u001b[1m> Finished chain.\u001b[0m\n"
          ]
        },
        {
          "data": {
            "text/plain": [
              "'17678.0'"
            ]
          },
          "execution_count": 126,
          "metadata": {},
          "output_type": "execute_result"
        }
      ],
      "source": [
        "new_chain.run('If we have to sell all the Levi’s T-shirts today with discounts applied. How much revenue our store will generate (post discounts)?\"')"
      ]
    },
    {
      "cell_type": "code",
      "execution_count": null,
      "metadata": {
        "id": "g-oMR_sQ2vP4"
      },
      "outputs": [],
      "source": []
    }
  ],
  "metadata": {
    "kernelspec": {
      "display_name": "Python 3.9.13 ('llm-env': venv)",
      "language": "python",
      "name": "python3"
    },
    "language_info": {
      "codemirror_mode": {
        "name": "ipython",
        "version": 3
      },
      "file_extension": ".py",
      "mimetype": "text/x-python",
      "name": "python",
      "nbconvert_exporter": "python",
      "pygments_lexer": "ipython3",
      "version": "3.9.13"
    },
    "orig_nbformat": 4,
    "vscode": {
      "interpreter": {
        "hash": "ba76eebf4033f70fa7820e9c90b29553cfa08957037e3cc14087b2740c4b04fa"
      }
    },
    "colab": {
      "provenance": [],
      "toc_visible": true
    }
  },
  "nbformat": 4,
  "nbformat_minor": 0
}
